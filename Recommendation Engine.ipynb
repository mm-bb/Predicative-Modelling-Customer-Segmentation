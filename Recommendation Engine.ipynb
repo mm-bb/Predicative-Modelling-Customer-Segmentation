{
 "cells": [
  {
   "cell_type": "markdown",
   "id": "16497fde",
   "metadata": {},
   "source": [
    "## Recommedation Engine"
   ]
  },
  {
   "cell_type": "code",
   "execution_count": 33,
   "id": "f549f500",
   "metadata": {},
   "outputs": [],
   "source": [
    "import pandas as pd\n",
    "import numpy as np\n",
    "\n",
    "from sklearn.metrics.pairwise import cosine_similarity\n",
    "from surprise import SVD, Reader, Dataset, accuracy\n",
    "from surprise.model_selection import train_test_split\n",
    "\n",
    "import scipy.sparse as sparse\n",
    "\n",
    "from scipy.sparse.linalg import spsolve\n",
    "import warnings\n",
    "warnings.filterwarnings('ignore')\n",
    "import sys"
   ]
  },
  {
   "cell_type": "markdown",
   "id": "0c431c7b",
   "metadata": {},
   "source": [
    "# Step 1 - Data Import FactInternet Sales/Product/Customer/Geophraphy SQl Table"
   ]
  },
  {
   "cell_type": "code",
   "execution_count": 2,
   "id": "c707283d",
   "metadata": {},
   "outputs": [
    {
     "data": {
      "text/html": [
       "<div>\n",
       "<style scoped>\n",
       "    .dataframe tbody tr th:only-of-type {\n",
       "        vertical-align: middle;\n",
       "    }\n",
       "\n",
       "    .dataframe tbody tr th {\n",
       "        vertical-align: top;\n",
       "    }\n",
       "\n",
       "    .dataframe thead th {\n",
       "        text-align: right;\n",
       "    }\n",
       "</style>\n",
       "<table border=\"1\" class=\"dataframe\">\n",
       "  <thead>\n",
       "    <tr style=\"text-align: right;\">\n",
       "      <th></th>\n",
       "      <th>SalesOrderNumber</th>\n",
       "      <th>ProductID</th>\n",
       "      <th>ProductName</th>\n",
       "      <th>CustomerID</th>\n",
       "      <th>OrderVol</th>\n",
       "      <th>BirthDate</th>\n",
       "      <th>MaritalStatus</th>\n",
       "      <th>Gender</th>\n",
       "      <th>YearlyIncome</th>\n",
       "      <th>TotalChildren</th>\n",
       "      <th>HouseOwnerFlag</th>\n",
       "      <th>NumberCarsOwned</th>\n",
       "      <th>CommuteDistance</th>\n",
       "      <th>City</th>\n",
       "      <th>CountryRegionCode</th>\n",
       "    </tr>\n",
       "  </thead>\n",
       "  <tbody>\n",
       "    <tr>\n",
       "      <th>0</th>\n",
       "      <td>SO43697</td>\n",
       "      <td>310</td>\n",
       "      <td>Road-150 Red, 62</td>\n",
       "      <td>21768</td>\n",
       "      <td>1</td>\n",
       "      <td>1952-02-19</td>\n",
       "      <td>S</td>\n",
       "      <td>M</td>\n",
       "      <td>70000.0</td>\n",
       "      <td>5</td>\n",
       "      <td>1</td>\n",
       "      <td>3</td>\n",
       "      <td>10+ Miles</td>\n",
       "      <td>Metchosin</td>\n",
       "      <td>CA</td>\n",
       "    </tr>\n",
       "    <tr>\n",
       "      <th>1</th>\n",
       "      <td>SO43698</td>\n",
       "      <td>346</td>\n",
       "      <td>Mountain-100 Silver, 44</td>\n",
       "      <td>28389</td>\n",
       "      <td>1</td>\n",
       "      <td>1970-06-17</td>\n",
       "      <td>S</td>\n",
       "      <td>F</td>\n",
       "      <td>20000.0</td>\n",
       "      <td>3</td>\n",
       "      <td>0</td>\n",
       "      <td>0</td>\n",
       "      <td>0-1 Miles</td>\n",
       "      <td>Pantin</td>\n",
       "      <td>FR</td>\n",
       "    </tr>\n",
       "    <tr>\n",
       "      <th>2</th>\n",
       "      <td>SO43699</td>\n",
       "      <td>346</td>\n",
       "      <td>Mountain-100 Silver, 44</td>\n",
       "      <td>25863</td>\n",
       "      <td>1</td>\n",
       "      <td>1952-06-01</td>\n",
       "      <td>S</td>\n",
       "      <td>F</td>\n",
       "      <td>40000.0</td>\n",
       "      <td>5</td>\n",
       "      <td>1</td>\n",
       "      <td>3</td>\n",
       "      <td>10+ Miles</td>\n",
       "      <td>Lebanon</td>\n",
       "      <td>US</td>\n",
       "    </tr>\n",
       "    <tr>\n",
       "      <th>3</th>\n",
       "      <td>SO43700</td>\n",
       "      <td>336</td>\n",
       "      <td>Road-650 Black, 62</td>\n",
       "      <td>14501</td>\n",
       "      <td>1</td>\n",
       "      <td>1943-11-10</td>\n",
       "      <td>M</td>\n",
       "      <td>M</td>\n",
       "      <td>80000.0</td>\n",
       "      <td>4</td>\n",
       "      <td>1</td>\n",
       "      <td>2</td>\n",
       "      <td>1-2 Miles</td>\n",
       "      <td>Beverly Hills</td>\n",
       "      <td>US</td>\n",
       "    </tr>\n",
       "    <tr>\n",
       "      <th>4</th>\n",
       "      <td>SO43701</td>\n",
       "      <td>346</td>\n",
       "      <td>Mountain-100 Silver, 44</td>\n",
       "      <td>11003</td>\n",
       "      <td>1</td>\n",
       "      <td>1973-08-14</td>\n",
       "      <td>S</td>\n",
       "      <td>F</td>\n",
       "      <td>70000.0</td>\n",
       "      <td>0</td>\n",
       "      <td>0</td>\n",
       "      <td>1</td>\n",
       "      <td>5-10 Miles</td>\n",
       "      <td>North Ryde</td>\n",
       "      <td>AU</td>\n",
       "    </tr>\n",
       "  </tbody>\n",
       "</table>\n",
       "</div>"
      ],
      "text/plain": [
       "  SalesOrderNumber  ProductID              ProductName  CustomerID  OrderVol  \\\n",
       "0          SO43697        310         Road-150 Red, 62       21768         1   \n",
       "1          SO43698        346  Mountain-100 Silver, 44       28389         1   \n",
       "2          SO43699        346  Mountain-100 Silver, 44       25863         1   \n",
       "3          SO43700        336       Road-650 Black, 62       14501         1   \n",
       "4          SO43701        346  Mountain-100 Silver, 44       11003         1   \n",
       "\n",
       "    BirthDate MaritalStatus Gender  YearlyIncome  TotalChildren  \\\n",
       "0  1952-02-19             S      M       70000.0              5   \n",
       "1  1970-06-17             S      F       20000.0              3   \n",
       "2  1952-06-01             S      F       40000.0              5   \n",
       "3  1943-11-10             M      M       80000.0              4   \n",
       "4  1973-08-14             S      F       70000.0              0   \n",
       "\n",
       "  HouseOwnerFlag  NumberCarsOwned CommuteDistance           City  \\\n",
       "0              1                3       10+ Miles      Metchosin   \n",
       "1              0                0       0-1 Miles         Pantin   \n",
       "2              1                3       10+ Miles        Lebanon   \n",
       "3              1                2       1-2 Miles  Beverly Hills   \n",
       "4              0                1      5-10 Miles     North Ryde   \n",
       "\n",
       "  CountryRegionCode  \n",
       "0                CA  \n",
       "1                FR  \n",
       "2                US  \n",
       "3                US  \n",
       "4                AU  "
      ]
     },
     "execution_count": 2,
     "metadata": {},
     "output_type": "execute_result"
    }
   ],
   "source": [
    "import pyodbc \n",
    "import pandas as pd\n",
    "conn = pyodbc.connect('Driver={SQL Server};'\n",
    "                      'Server=DESKTOP-QEC24C4;'\n",
    "                      'Database=AdventureWorksDW2017;' \n",
    "                      'Trusted_Connection=yes;')\n",
    "\n",
    "\n",
    "sql_for_df1 = \"\"\"SELECT\n",
    "FI.[SalesOrderNumber],\n",
    "FI.[ProductKey] as ProductID,\n",
    "P.EnglishProductName as ProductName,\n",
    "FI.[CustomerKey] as CustomerID,\n",
    "FI.[OrderQuantity] as OrderVol,\n",
    "C.[BirthDate],\n",
    "C.[MaritalStatus],\n",
    "C.[Gender],\n",
    "C.[YearlyIncome],\n",
    "C.[TotalChildren],\n",
    "C.[HouseOwnerFlag],\n",
    "C.[NumberCarsOwned],\n",
    "C.[CommuteDistance],\n",
    "G.[City],\n",
    "G.[CountryRegionCode]\n",
    "FROM [dbo].[FactInternetSales] as FI\n",
    "LEFT JOIN [dbo].[DimProduct] as P\n",
    "ON FI.ProductKey=P.ProductKey \n",
    "LEFT JOIN [dbo].[DimCustomer] AS C\n",
    "ON FI.[CustomerKey]= C.[CustomerKey]\n",
    "LEFT JOIN [dbo].[DimGeography] AS G\n",
    "ON C.[GeographyKey] = G.[GeographyKey]\"\"\"\n",
    "\n",
    "df = pd.read_sql(sql_for_df1 , conn)\n",
    "\n",
    "\n",
    "conn.close()\n",
    "df.head()"
   ]
  },
  {
   "cell_type": "markdown",
   "id": "329ed33d",
   "metadata": {},
   "source": [
    "## Data Exploration"
   ]
  },
  {
   "cell_type": "code",
   "execution_count": 82,
   "id": "6c4df648",
   "metadata": {},
   "outputs": [
    {
     "data": {
      "text/plain": [
       "(60398, 15)"
      ]
     },
     "execution_count": 82,
     "metadata": {},
     "output_type": "execute_result"
    }
   ],
   "source": [
    "df.shape #checkings statistics"
   ]
  },
  {
   "cell_type": "code",
   "execution_count": 83,
   "id": "f1553f0e",
   "metadata": {},
   "outputs": [
    {
     "name": "stdout",
     "output_type": "stream",
     "text": [
      "<class 'pandas.core.frame.DataFrame'>\n",
      "RangeIndex: 60398 entries, 0 to 60397\n",
      "Data columns (total 15 columns):\n",
      " #   Column             Non-Null Count  Dtype  \n",
      "---  ------             --------------  -----  \n",
      " 0   SalesOrderNumber   60398 non-null  object \n",
      " 1   ProductID          60398 non-null  int64  \n",
      " 2   ProductName        60398 non-null  object \n",
      " 3   CustomerID         60398 non-null  int32  \n",
      " 4   OrderVol           60398 non-null  int64  \n",
      " 5   BirthDate          60398 non-null  object \n",
      " 6   MaritalStatus      60398 non-null  object \n",
      " 7   Gender             60398 non-null  object \n",
      " 8   YearlyIncome       60398 non-null  float64\n",
      " 9   TotalChildren      60398 non-null  int64  \n",
      " 10  HouseOwnerFlag     60398 non-null  object \n",
      " 11  NumberCarsOwned    60398 non-null  int64  \n",
      " 12  CommuteDistance    60398 non-null  object \n",
      " 13  City               60398 non-null  object \n",
      " 14  CountryRegionCode  60398 non-null  object \n",
      "dtypes: float64(1), int32(1), int64(4), object(9)\n",
      "memory usage: 6.7+ MB\n"
     ]
    }
   ],
   "source": [
    "# Check for missing values\n",
    "df.info()"
   ]
  },
  {
   "cell_type": "markdown",
   "id": "982bc7e4",
   "metadata": {},
   "source": [
    "## Importing Product dataset"
   ]
  },
  {
   "cell_type": "code",
   "execution_count": 84,
   "id": "7819d2a8",
   "metadata": {},
   "outputs": [
    {
     "data": {
      "text/html": [
       "<div>\n",
       "<style scoped>\n",
       "    .dataframe tbody tr th:only-of-type {\n",
       "        vertical-align: middle;\n",
       "    }\n",
       "\n",
       "    .dataframe tbody tr th {\n",
       "        vertical-align: top;\n",
       "    }\n",
       "\n",
       "    .dataframe thead th {\n",
       "        text-align: right;\n",
       "    }\n",
       "</style>\n",
       "<table border=\"1\" class=\"dataframe\">\n",
       "  <thead>\n",
       "    <tr style=\"text-align: right;\">\n",
       "      <th></th>\n",
       "      <th>ProductKey</th>\n",
       "      <th>ProductAlternateKey</th>\n",
       "      <th>ProductSubcategoryKey</th>\n",
       "      <th>WeightUnitMeasureCode</th>\n",
       "      <th>SizeUnitMeasureCode</th>\n",
       "      <th>EnglishProductName</th>\n",
       "      <th>SpanishProductName</th>\n",
       "      <th>FrenchProductName</th>\n",
       "      <th>StandardCost</th>\n",
       "      <th>FinishedGoodsFlag</th>\n",
       "      <th>...</th>\n",
       "      <th>ChineseDescription</th>\n",
       "      <th>ArabicDescription</th>\n",
       "      <th>HebrewDescription</th>\n",
       "      <th>ThaiDescription</th>\n",
       "      <th>GermanDescription</th>\n",
       "      <th>JapaneseDescription</th>\n",
       "      <th>TurkishDescription</th>\n",
       "      <th>StartDate</th>\n",
       "      <th>EndDate</th>\n",
       "      <th>Status</th>\n",
       "    </tr>\n",
       "  </thead>\n",
       "  <tbody>\n",
       "    <tr>\n",
       "      <th>0</th>\n",
       "      <td>1</td>\n",
       "      <td>AR-5381</td>\n",
       "      <td>NaN</td>\n",
       "      <td>None</td>\n",
       "      <td>None</td>\n",
       "      <td>Adjustable Race</td>\n",
       "      <td></td>\n",
       "      <td></td>\n",
       "      <td>NaN</td>\n",
       "      <td>False</td>\n",
       "      <td>...</td>\n",
       "      <td>None</td>\n",
       "      <td>None</td>\n",
       "      <td>None</td>\n",
       "      <td>None</td>\n",
       "      <td>None</td>\n",
       "      <td>None</td>\n",
       "      <td>None</td>\n",
       "      <td>2003-07-01</td>\n",
       "      <td>NaT</td>\n",
       "      <td>Current</td>\n",
       "    </tr>\n",
       "    <tr>\n",
       "      <th>1</th>\n",
       "      <td>2</td>\n",
       "      <td>BA-8327</td>\n",
       "      <td>NaN</td>\n",
       "      <td>None</td>\n",
       "      <td>None</td>\n",
       "      <td>Bearing Ball</td>\n",
       "      <td></td>\n",
       "      <td></td>\n",
       "      <td>NaN</td>\n",
       "      <td>False</td>\n",
       "      <td>...</td>\n",
       "      <td>None</td>\n",
       "      <td>None</td>\n",
       "      <td>None</td>\n",
       "      <td>None</td>\n",
       "      <td>None</td>\n",
       "      <td>None</td>\n",
       "      <td>None</td>\n",
       "      <td>2003-07-01</td>\n",
       "      <td>NaT</td>\n",
       "      <td>Current</td>\n",
       "    </tr>\n",
       "    <tr>\n",
       "      <th>2</th>\n",
       "      <td>3</td>\n",
       "      <td>BE-2349</td>\n",
       "      <td>NaN</td>\n",
       "      <td>None</td>\n",
       "      <td>None</td>\n",
       "      <td>BB Ball Bearing</td>\n",
       "      <td></td>\n",
       "      <td></td>\n",
       "      <td>NaN</td>\n",
       "      <td>False</td>\n",
       "      <td>...</td>\n",
       "      <td>None</td>\n",
       "      <td>None</td>\n",
       "      <td>None</td>\n",
       "      <td>None</td>\n",
       "      <td>None</td>\n",
       "      <td>None</td>\n",
       "      <td>None</td>\n",
       "      <td>2003-07-01</td>\n",
       "      <td>NaT</td>\n",
       "      <td>Current</td>\n",
       "    </tr>\n",
       "    <tr>\n",
       "      <th>3</th>\n",
       "      <td>4</td>\n",
       "      <td>BE-2908</td>\n",
       "      <td>NaN</td>\n",
       "      <td>None</td>\n",
       "      <td>None</td>\n",
       "      <td>Headset Ball Bearings</td>\n",
       "      <td></td>\n",
       "      <td></td>\n",
       "      <td>NaN</td>\n",
       "      <td>False</td>\n",
       "      <td>...</td>\n",
       "      <td>None</td>\n",
       "      <td>None</td>\n",
       "      <td>None</td>\n",
       "      <td>None</td>\n",
       "      <td>None</td>\n",
       "      <td>None</td>\n",
       "      <td>None</td>\n",
       "      <td>2003-07-01</td>\n",
       "      <td>NaT</td>\n",
       "      <td>Current</td>\n",
       "    </tr>\n",
       "    <tr>\n",
       "      <th>4</th>\n",
       "      <td>5</td>\n",
       "      <td>BL-2036</td>\n",
       "      <td>NaN</td>\n",
       "      <td>None</td>\n",
       "      <td>None</td>\n",
       "      <td>Blade</td>\n",
       "      <td></td>\n",
       "      <td></td>\n",
       "      <td>NaN</td>\n",
       "      <td>False</td>\n",
       "      <td>...</td>\n",
       "      <td>None</td>\n",
       "      <td>None</td>\n",
       "      <td>None</td>\n",
       "      <td>None</td>\n",
       "      <td>None</td>\n",
       "      <td>None</td>\n",
       "      <td>None</td>\n",
       "      <td>2003-07-01</td>\n",
       "      <td>NaT</td>\n",
       "      <td>Current</td>\n",
       "    </tr>\n",
       "  </tbody>\n",
       "</table>\n",
       "<p>5 rows × 36 columns</p>\n",
       "</div>"
      ],
      "text/plain": [
       "   ProductKey ProductAlternateKey  ProductSubcategoryKey  \\\n",
       "0           1             AR-5381                    NaN   \n",
       "1           2             BA-8327                    NaN   \n",
       "2           3             BE-2349                    NaN   \n",
       "3           4             BE-2908                    NaN   \n",
       "4           5             BL-2036                    NaN   \n",
       "\n",
       "  WeightUnitMeasureCode SizeUnitMeasureCode     EnglishProductName  \\\n",
       "0                  None                None        Adjustable Race   \n",
       "1                  None                None           Bearing Ball   \n",
       "2                  None                None        BB Ball Bearing   \n",
       "3                  None                None  Headset Ball Bearings   \n",
       "4                  None                None                  Blade   \n",
       "\n",
       "  SpanishProductName FrenchProductName  StandardCost  FinishedGoodsFlag  ...  \\\n",
       "0                                                NaN              False  ...   \n",
       "1                                                NaN              False  ...   \n",
       "2                                                NaN              False  ...   \n",
       "3                                                NaN              False  ...   \n",
       "4                                                NaN              False  ...   \n",
       "\n",
       "  ChineseDescription  ArabicDescription  HebrewDescription  ThaiDescription  \\\n",
       "0               None               None               None             None   \n",
       "1               None               None               None             None   \n",
       "2               None               None               None             None   \n",
       "3               None               None               None             None   \n",
       "4               None               None               None             None   \n",
       "\n",
       "  GermanDescription JapaneseDescription  TurkishDescription  StartDate  \\\n",
       "0              None                None                None 2003-07-01   \n",
       "1              None                None                None 2003-07-01   \n",
       "2              None                None                None 2003-07-01   \n",
       "3              None                None                None 2003-07-01   \n",
       "4              None                None                None 2003-07-01   \n",
       "\n",
       "  EndDate   Status  \n",
       "0     NaT  Current  \n",
       "1     NaT  Current  \n",
       "2     NaT  Current  \n",
       "3     NaT  Current  \n",
       "4     NaT  Current  \n",
       "\n",
       "[5 rows x 36 columns]"
      ]
     },
     "execution_count": 84,
     "metadata": {},
     "output_type": "execute_result"
    }
   ],
   "source": [
    "#Importing Product dataset\n",
    "import pyodbc \n",
    "import pandas as pd\n",
    "conn = pyodbc.connect('Driver={SQL Server};'\n",
    "                      'Server=DESKTOP-QEC24C4;'\n",
    "                      'Database=AdventureWorksDW2017;' \n",
    "                      'Trusted_Connection=yes;')\n",
    "\n",
    "\n",
    "\n",
    "sql_for_df2 = \"\"\"SELECT\n",
    "* FROM [dbo].[DimProduct] \"\"\"\n",
    "\n",
    "df2 = pd.read_sql(sql_for_df2 , conn)\n",
    "df2.head()\n"
   ]
  },
  {
   "cell_type": "code",
   "execution_count": 6,
   "id": "aa4fcd2f",
   "metadata": {},
   "outputs": [
    {
     "data": {
      "text/plain": [
       "(606, 36)"
      ]
     },
     "execution_count": 6,
     "metadata": {},
     "output_type": "execute_result"
    }
   ],
   "source": [
    "df2.shape"
   ]
  },
  {
   "cell_type": "code",
   "execution_count": 7,
   "id": "a798193a",
   "metadata": {},
   "outputs": [
    {
     "data": {
      "text/plain": [
       "ProductKey                        int64\n",
       "ProductAlternateKey              object\n",
       "ProductSubcategoryKey           float64\n",
       "WeightUnitMeasureCode            object\n",
       "SizeUnitMeasureCode              object\n",
       "EnglishProductName               object\n",
       "SpanishProductName               object\n",
       "FrenchProductName                object\n",
       "StandardCost                    float64\n",
       "FinishedGoodsFlag                  bool\n",
       "Color                            object\n",
       "SafetyStockLevel                  int64\n",
       "ReorderPoint                      int64\n",
       "ListPrice                       float64\n",
       "Size                             object\n",
       "SizeRange                        object\n",
       "Weight                          float64\n",
       "DaysToManufacture                 int64\n",
       "ProductLine                      object\n",
       "DealerPrice                     float64\n",
       "Class                            object\n",
       "Style                            object\n",
       "ModelName                        object\n",
       "LargePhoto                       object\n",
       "EnglishDescription               object\n",
       "FrenchDescription                object\n",
       "ChineseDescription               object\n",
       "ArabicDescription                object\n",
       "HebrewDescription                object\n",
       "ThaiDescription                  object\n",
       "GermanDescription                object\n",
       "JapaneseDescription              object\n",
       "TurkishDescription               object\n",
       "StartDate                datetime64[ns]\n",
       "EndDate                  datetime64[ns]\n",
       "Status                           object\n",
       "dtype: object"
      ]
     },
     "execution_count": 7,
     "metadata": {},
     "output_type": "execute_result"
    }
   ],
   "source": [
    "df2.dtypes"
   ]
  },
  {
   "cell_type": "code",
   "execution_count": 8,
   "id": "26d24cc5",
   "metadata": {},
   "outputs": [
    {
     "data": {
      "text/html": [
       "<div>\n",
       "<style scoped>\n",
       "    .dataframe tbody tr th:only-of-type {\n",
       "        vertical-align: middle;\n",
       "    }\n",
       "\n",
       "    .dataframe tbody tr th {\n",
       "        vertical-align: top;\n",
       "    }\n",
       "\n",
       "    .dataframe thead th {\n",
       "        text-align: right;\n",
       "    }\n",
       "</style>\n",
       "<table border=\"1\" class=\"dataframe\">\n",
       "  <thead>\n",
       "    <tr style=\"text-align: right;\">\n",
       "      <th></th>\n",
       "      <th>ProductKey</th>\n",
       "      <th>ProductSubcategoryKey</th>\n",
       "      <th>StandardCost</th>\n",
       "      <th>SafetyStockLevel</th>\n",
       "      <th>ReorderPoint</th>\n",
       "      <th>ListPrice</th>\n",
       "      <th>Weight</th>\n",
       "      <th>DaysToManufacture</th>\n",
       "      <th>DealerPrice</th>\n",
       "    </tr>\n",
       "  </thead>\n",
       "  <tbody>\n",
       "    <tr>\n",
       "      <th>count</th>\n",
       "      <td>606.00000</td>\n",
       "      <td>397.000000</td>\n",
       "      <td>395.000000</td>\n",
       "      <td>606.000000</td>\n",
       "      <td>606.000000</td>\n",
       "      <td>395.000000</td>\n",
       "      <td>282.000000</td>\n",
       "      <td>606.000000</td>\n",
       "      <td>395.000000</td>\n",
       "    </tr>\n",
       "    <tr>\n",
       "      <th>mean</th>\n",
       "      <td>303.50000</td>\n",
       "      <td>12.128463</td>\n",
       "      <td>434.265829</td>\n",
       "      <td>495.201320</td>\n",
       "      <td>371.400990</td>\n",
       "      <td>747.661762</td>\n",
       "      <td>56.193227</td>\n",
       "      <td>1.201320</td>\n",
       "      <td>448.597060</td>\n",
       "    </tr>\n",
       "    <tr>\n",
       "      <th>std</th>\n",
       "      <td>175.08141</td>\n",
       "      <td>9.423328</td>\n",
       "      <td>497.379884</td>\n",
       "      <td>364.007114</td>\n",
       "      <td>273.005336</td>\n",
       "      <td>838.708451</td>\n",
       "      <td>158.000652</td>\n",
       "      <td>1.508893</td>\n",
       "      <td>503.225071</td>\n",
       "    </tr>\n",
       "    <tr>\n",
       "      <th>min</th>\n",
       "      <td>1.00000</td>\n",
       "      <td>1.000000</td>\n",
       "      <td>0.856500</td>\n",
       "      <td>4.000000</td>\n",
       "      <td>3.000000</td>\n",
       "      <td>2.290000</td>\n",
       "      <td>2.120000</td>\n",
       "      <td>0.000000</td>\n",
       "      <td>1.374000</td>\n",
       "    </tr>\n",
       "    <tr>\n",
       "      <th>25%</th>\n",
       "      <td>152.25000</td>\n",
       "      <td>2.000000</td>\n",
       "      <td>37.120900</td>\n",
       "      <td>100.000000</td>\n",
       "      <td>75.000000</td>\n",
       "      <td>69.990000</td>\n",
       "      <td>2.680000</td>\n",
       "      <td>0.000000</td>\n",
       "      <td>41.994000</td>\n",
       "    </tr>\n",
       "    <tr>\n",
       "      <th>50%</th>\n",
       "      <td>303.50000</td>\n",
       "      <td>13.000000</td>\n",
       "      <td>204.625100</td>\n",
       "      <td>500.000000</td>\n",
       "      <td>375.000000</td>\n",
       "      <td>364.090000</td>\n",
       "      <td>15.420000</td>\n",
       "      <td>1.000000</td>\n",
       "      <td>218.454000</td>\n",
       "    </tr>\n",
       "    <tr>\n",
       "      <th>75%</th>\n",
       "      <td>454.75000</td>\n",
       "      <td>16.000000</td>\n",
       "      <td>660.914200</td>\n",
       "      <td>1000.000000</td>\n",
       "      <td>750.000000</td>\n",
       "      <td>1204.324800</td>\n",
       "      <td>24.130000</td>\n",
       "      <td>1.000000</td>\n",
       "      <td>722.594900</td>\n",
       "    </tr>\n",
       "    <tr>\n",
       "      <th>max</th>\n",
       "      <td>606.00000</td>\n",
       "      <td>37.000000</td>\n",
       "      <td>2171.294200</td>\n",
       "      <td>1000.000000</td>\n",
       "      <td>750.000000</td>\n",
       "      <td>3578.270000</td>\n",
       "      <td>1050.000000</td>\n",
       "      <td>4.000000</td>\n",
       "      <td>2146.962000</td>\n",
       "    </tr>\n",
       "  </tbody>\n",
       "</table>\n",
       "</div>"
      ],
      "text/plain": [
       "       ProductKey  ProductSubcategoryKey  StandardCost  SafetyStockLevel  \\\n",
       "count   606.00000             397.000000    395.000000        606.000000   \n",
       "mean    303.50000              12.128463    434.265829        495.201320   \n",
       "std     175.08141               9.423328    497.379884        364.007114   \n",
       "min       1.00000               1.000000      0.856500          4.000000   \n",
       "25%     152.25000               2.000000     37.120900        100.000000   \n",
       "50%     303.50000              13.000000    204.625100        500.000000   \n",
       "75%     454.75000              16.000000    660.914200       1000.000000   \n",
       "max     606.00000              37.000000   2171.294200       1000.000000   \n",
       "\n",
       "       ReorderPoint    ListPrice       Weight  DaysToManufacture  DealerPrice  \n",
       "count    606.000000   395.000000   282.000000         606.000000   395.000000  \n",
       "mean     371.400990   747.661762    56.193227           1.201320   448.597060  \n",
       "std      273.005336   838.708451   158.000652           1.508893   503.225071  \n",
       "min        3.000000     2.290000     2.120000           0.000000     1.374000  \n",
       "25%       75.000000    69.990000     2.680000           0.000000    41.994000  \n",
       "50%      375.000000   364.090000    15.420000           1.000000   218.454000  \n",
       "75%      750.000000  1204.324800    24.130000           1.000000   722.594900  \n",
       "max      750.000000  3578.270000  1050.000000           4.000000  2146.962000  "
      ]
     },
     "execution_count": 8,
     "metadata": {},
     "output_type": "execute_result"
    }
   ],
   "source": [
    "df2.describe()"
   ]
  },
  {
   "cell_type": "code",
   "execution_count": 9,
   "id": "61f08321",
   "metadata": {},
   "outputs": [
    {
     "data": {
      "text/plain": [
       "ProductKey                 0\n",
       "ProductAlternateKey        0\n",
       "ProductSubcategoryKey    209\n",
       "WeightUnitMeasureCode    324\n",
       "SizeUnitMeasureCode      353\n",
       "EnglishProductName         0\n",
       "SpanishProductName         0\n",
       "FrenchProductName          0\n",
       "StandardCost             211\n",
       "FinishedGoodsFlag          0\n",
       "Color                      0\n",
       "SafetyStockLevel           0\n",
       "ReorderPoint               0\n",
       "ListPrice                211\n",
       "Size                     307\n",
       "SizeRange                  0\n",
       "Weight                   324\n",
       "DaysToManufacture          0\n",
       "ProductLine              226\n",
       "DealerPrice              211\n",
       "Class                    276\n",
       "Style                    305\n",
       "ModelName                209\n",
       "LargePhoto                 0\n",
       "EnglishDescription       210\n",
       "FrenchDescription        210\n",
       "ChineseDescription       210\n",
       "ArabicDescription        210\n",
       "HebrewDescription        210\n",
       "ThaiDescription          210\n",
       "GermanDescription        210\n",
       "JapaneseDescription      210\n",
       "TurkishDescription       210\n",
       "StartDate                  0\n",
       "EndDate                  406\n",
       "Status                   200\n",
       "dtype: int64"
      ]
     },
     "execution_count": 9,
     "metadata": {},
     "output_type": "execute_result"
    }
   ],
   "source": [
    "df2.isnull().sum()"
   ]
  },
  {
   "cell_type": "code",
   "execution_count": 10,
   "id": "683be86a",
   "metadata": {},
   "outputs": [],
   "source": [
    "df2.rename(columns={'ProductKey':'ProductID'}, inplace=True)"
   ]
  },
  {
   "cell_type": "markdown",
   "id": "93fbf90e",
   "metadata": {},
   "source": [
    "## Importing subcategories table from SQL"
   ]
  },
  {
   "cell_type": "code",
   "execution_count": 11,
   "id": "6e1b37f9",
   "metadata": {},
   "outputs": [
    {
     "data": {
      "text/html": [
       "<div>\n",
       "<style scoped>\n",
       "    .dataframe tbody tr th:only-of-type {\n",
       "        vertical-align: middle;\n",
       "    }\n",
       "\n",
       "    .dataframe tbody tr th {\n",
       "        vertical-align: top;\n",
       "    }\n",
       "\n",
       "    .dataframe thead th {\n",
       "        text-align: right;\n",
       "    }\n",
       "</style>\n",
       "<table border=\"1\" class=\"dataframe\">\n",
       "  <thead>\n",
       "    <tr style=\"text-align: right;\">\n",
       "      <th></th>\n",
       "      <th>ProductSubcategoryKey</th>\n",
       "      <th>ProductSubcategoryAlternateKey</th>\n",
       "      <th>EnglishProductSubcategoryName</th>\n",
       "      <th>SpanishProductSubcategoryName</th>\n",
       "      <th>FrenchProductSubcategoryName</th>\n",
       "      <th>ProductCategoryKey</th>\n",
       "    </tr>\n",
       "  </thead>\n",
       "  <tbody>\n",
       "    <tr>\n",
       "      <th>0</th>\n",
       "      <td>1</td>\n",
       "      <td>1</td>\n",
       "      <td>Mountain Bikes</td>\n",
       "      <td>Bicicleta de montaña</td>\n",
       "      <td>VTT</td>\n",
       "      <td>1</td>\n",
       "    </tr>\n",
       "    <tr>\n",
       "      <th>1</th>\n",
       "      <td>2</td>\n",
       "      <td>2</td>\n",
       "      <td>Road Bikes</td>\n",
       "      <td>Bicicleta de carretera</td>\n",
       "      <td>Vélo de route</td>\n",
       "      <td>1</td>\n",
       "    </tr>\n",
       "    <tr>\n",
       "      <th>2</th>\n",
       "      <td>3</td>\n",
       "      <td>3</td>\n",
       "      <td>Touring Bikes</td>\n",
       "      <td>Bicicleta de paseo</td>\n",
       "      <td>Vélo de randonnée</td>\n",
       "      <td>1</td>\n",
       "    </tr>\n",
       "    <tr>\n",
       "      <th>3</th>\n",
       "      <td>4</td>\n",
       "      <td>4</td>\n",
       "      <td>Handlebars</td>\n",
       "      <td>Barra</td>\n",
       "      <td>Barre d'appui</td>\n",
       "      <td>2</td>\n",
       "    </tr>\n",
       "    <tr>\n",
       "      <th>4</th>\n",
       "      <td>5</td>\n",
       "      <td>5</td>\n",
       "      <td>Bottom Brackets</td>\n",
       "      <td>Eje de pedalier</td>\n",
       "      <td>Axe de pédalier</td>\n",
       "      <td>2</td>\n",
       "    </tr>\n",
       "  </tbody>\n",
       "</table>\n",
       "</div>"
      ],
      "text/plain": [
       "   ProductSubcategoryKey  ProductSubcategoryAlternateKey  \\\n",
       "0                      1                               1   \n",
       "1                      2                               2   \n",
       "2                      3                               3   \n",
       "3                      4                               4   \n",
       "4                      5                               5   \n",
       "\n",
       "  EnglishProductSubcategoryName SpanishProductSubcategoryName  \\\n",
       "0                Mountain Bikes          Bicicleta de montaña   \n",
       "1                    Road Bikes        Bicicleta de carretera   \n",
       "2                 Touring Bikes            Bicicleta de paseo   \n",
       "3                    Handlebars                         Barra   \n",
       "4               Bottom Brackets               Eje de pedalier   \n",
       "\n",
       "  FrenchProductSubcategoryName  ProductCategoryKey  \n",
       "0                          VTT                   1  \n",
       "1                Vélo de route                   1  \n",
       "2            Vélo de randonnée                   1  \n",
       "3                Barre d'appui                   2  \n",
       "4              Axe de pédalier                   2  "
      ]
     },
     "execution_count": 11,
     "metadata": {},
     "output_type": "execute_result"
    }
   ],
   "source": [
    "# Importing subcategories table from SQL\n",
    "import pyodbc \n",
    "import pandas as pd\n",
    "conn = pyodbc.connect('Driver={SQL Server};'\n",
    "                      'Server=DESKTOP-QEC24C4;'\n",
    "                      'Database=AdventureWorksDW2017;' \n",
    "                      'Trusted_Connection=yes;')\n",
    "\n",
    "\n",
    "\n",
    "sql_for_df3 = \"\"\"SELECT\n",
    "* FROM [dbo].[DimProductSubcategory] \"\"\"\n",
    "\n",
    "df3 = pd.read_sql(sql_for_df3 , conn)\n",
    "df3.head()\n",
    "\n",
    "\n"
   ]
  },
  {
   "cell_type": "code",
   "execution_count": 12,
   "id": "088140f4",
   "metadata": {},
   "outputs": [
    {
     "data": {
      "text/plain": [
       "(37, 6)"
      ]
     },
     "execution_count": 12,
     "metadata": {},
     "output_type": "execute_result"
    }
   ],
   "source": [
    "df3.shape"
   ]
  },
  {
   "cell_type": "code",
   "execution_count": 13,
   "id": "cb777b11",
   "metadata": {},
   "outputs": [],
   "source": [
    "#add product sub category info to product data\n",
    "allproducts=df2.merge(df3,on='ProductSubcategoryKey',how='left')"
   ]
  },
  {
   "cell_type": "code",
   "execution_count": 14,
   "id": "6c18579f",
   "metadata": {},
   "outputs": [
    {
     "name": "stdout",
     "output_type": "stream",
     "text": [
      "(606, 41)\n"
     ]
    }
   ],
   "source": [
    "print(allproducts.shape)"
   ]
  },
  {
   "cell_type": "markdown",
   "id": "15ee452c",
   "metadata": {},
   "source": [
    "### Recommendation Engine User Filter"
   ]
  },
  {
   "cell_type": "code",
   "execution_count": 15,
   "id": "99113219",
   "metadata": {},
   "outputs": [],
   "source": [
    "#choose one method below:\n",
    "\n",
    "internet_sales=df #no filtering\n",
    "#internet_sales=internet_sales_alldata.loc[internet_sales_alldata['CountryRegionCode'] == 'CA'] # geo filter\n",
    "#internet_sales=internet_sales_alldata.loc[internet_sales_alldata['Gender'] == 'F'] # gender filter\n",
    "#internet_sales=internet_sales_alldata.loc[(internet_sales_alldata['CountryRegionCode'] == 'CA') & (internet_sales_alldata['YearlyIncome'] > 40000)] #dual filter"
   ]
  },
  {
   "cell_type": "code",
   "execution_count": 16,
   "id": "f9d18fa8",
   "metadata": {},
   "outputs": [
    {
     "data": {
      "text/plain": [
       "(60398, 15)"
      ]
     },
     "execution_count": 16,
     "metadata": {},
     "output_type": "execute_result"
    }
   ],
   "source": [
    "#checks to see if filtering worked\n",
    "internet_sales.shape # the number should correspond with the ttoal count in SQL whic is 60398"
   ]
  },
  {
   "cell_type": "code",
   "execution_count": 17,
   "id": "b693d5e0",
   "metadata": {},
   "outputs": [
    {
     "data": {
      "text/plain": [
       "SalesOrderNumber      object\n",
       "ProductID              int64\n",
       "ProductName           object\n",
       "CustomerID             int64\n",
       "OrderVol               int64\n",
       "BirthDate             object\n",
       "MaritalStatus         object\n",
       "Gender                object\n",
       "YearlyIncome         float64\n",
       "TotalChildren          int64\n",
       "HouseOwnerFlag        object\n",
       "NumberCarsOwned        int64\n",
       "CommuteDistance       object\n",
       "City                  object\n",
       "CountryRegionCode     object\n",
       "dtype: object"
      ]
     },
     "execution_count": 17,
     "metadata": {},
     "output_type": "execute_result"
    }
   ],
   "source": [
    "internet_sales.dtypes"
   ]
  },
  {
   "cell_type": "code",
   "execution_count": 18,
   "id": "73aa7904",
   "metadata": {},
   "outputs": [
    {
     "data": {
      "text/html": [
       "<div>\n",
       "<style scoped>\n",
       "    .dataframe tbody tr th:only-of-type {\n",
       "        vertical-align: middle;\n",
       "    }\n",
       "\n",
       "    .dataframe tbody tr th {\n",
       "        vertical-align: top;\n",
       "    }\n",
       "\n",
       "    .dataframe thead th {\n",
       "        text-align: right;\n",
       "    }\n",
       "</style>\n",
       "<table border=\"1\" class=\"dataframe\">\n",
       "  <thead>\n",
       "    <tr style=\"text-align: right;\">\n",
       "      <th></th>\n",
       "      <th>ProductID</th>\n",
       "      <th>CustomerID</th>\n",
       "      <th>OrderVol</th>\n",
       "      <th>YearlyIncome</th>\n",
       "      <th>TotalChildren</th>\n",
       "      <th>NumberCarsOwned</th>\n",
       "    </tr>\n",
       "  </thead>\n",
       "  <tbody>\n",
       "    <tr>\n",
       "      <th>count</th>\n",
       "      <td>60398.000000</td>\n",
       "      <td>60398.000000</td>\n",
       "      <td>60398.0</td>\n",
       "      <td>60398.000000</td>\n",
       "      <td>60398.00000</td>\n",
       "      <td>60398.000000</td>\n",
       "    </tr>\n",
       "    <tr>\n",
       "      <th>mean</th>\n",
       "      <td>437.557932</td>\n",
       "      <td>18841.685420</td>\n",
       "      <td>1.0</td>\n",
       "      <td>59715.056790</td>\n",
       "      <td>1.85074</td>\n",
       "      <td>1.509189</td>\n",
       "    </tr>\n",
       "    <tr>\n",
       "      <th>std</th>\n",
       "      <td>118.088390</td>\n",
       "      <td>5432.430404</td>\n",
       "      <td>0.0</td>\n",
       "      <td>33065.426837</td>\n",
       "      <td>1.62107</td>\n",
       "      <td>1.154163</td>\n",
       "    </tr>\n",
       "    <tr>\n",
       "      <th>min</th>\n",
       "      <td>214.000000</td>\n",
       "      <td>11000.000000</td>\n",
       "      <td>1.0</td>\n",
       "      <td>10000.000000</td>\n",
       "      <td>0.00000</td>\n",
       "      <td>0.000000</td>\n",
       "    </tr>\n",
       "    <tr>\n",
       "      <th>25%</th>\n",
       "      <td>359.000000</td>\n",
       "      <td>14003.000000</td>\n",
       "      <td>1.0</td>\n",
       "      <td>30000.000000</td>\n",
       "      <td>0.00000</td>\n",
       "      <td>1.000000</td>\n",
       "    </tr>\n",
       "    <tr>\n",
       "      <th>50%</th>\n",
       "      <td>479.000000</td>\n",
       "      <td>18143.000000</td>\n",
       "      <td>1.0</td>\n",
       "      <td>60000.000000</td>\n",
       "      <td>2.00000</td>\n",
       "      <td>2.000000</td>\n",
       "    </tr>\n",
       "    <tr>\n",
       "      <th>75%</th>\n",
       "      <td>529.000000</td>\n",
       "      <td>23429.750000</td>\n",
       "      <td>1.0</td>\n",
       "      <td>80000.000000</td>\n",
       "      <td>3.00000</td>\n",
       "      <td>2.000000</td>\n",
       "    </tr>\n",
       "    <tr>\n",
       "      <th>max</th>\n",
       "      <td>606.000000</td>\n",
       "      <td>29483.000000</td>\n",
       "      <td>1.0</td>\n",
       "      <td>170000.000000</td>\n",
       "      <td>5.00000</td>\n",
       "      <td>4.000000</td>\n",
       "    </tr>\n",
       "  </tbody>\n",
       "</table>\n",
       "</div>"
      ],
      "text/plain": [
       "          ProductID    CustomerID  OrderVol   YearlyIncome  TotalChildren  \\\n",
       "count  60398.000000  60398.000000   60398.0   60398.000000    60398.00000   \n",
       "mean     437.557932  18841.685420       1.0   59715.056790        1.85074   \n",
       "std      118.088390   5432.430404       0.0   33065.426837        1.62107   \n",
       "min      214.000000  11000.000000       1.0   10000.000000        0.00000   \n",
       "25%      359.000000  14003.000000       1.0   30000.000000        0.00000   \n",
       "50%      479.000000  18143.000000       1.0   60000.000000        2.00000   \n",
       "75%      529.000000  23429.750000       1.0   80000.000000        3.00000   \n",
       "max      606.000000  29483.000000       1.0  170000.000000        5.00000   \n",
       "\n",
       "       NumberCarsOwned  \n",
       "count     60398.000000  \n",
       "mean          1.509189  \n",
       "std           1.154163  \n",
       "min           0.000000  \n",
       "25%           1.000000  \n",
       "50%           2.000000  \n",
       "75%           2.000000  \n",
       "max           4.000000  "
      ]
     },
     "execution_count": 18,
     "metadata": {},
     "output_type": "execute_result"
    }
   ],
   "source": [
    "internet_sales.describe()"
   ]
  },
  {
   "cell_type": "code",
   "execution_count": 19,
   "id": "dfcc8461",
   "metadata": {},
   "outputs": [],
   "source": [
    "# Now, we create a product look up table that keep tracks of each product ID along with its name\n",
    "product_lookup = internet_sales[['ProductID', 'ProductName']].drop_duplicates() # Only get unique product/description pairs\n",
    "product_lookup['ProductID'] = product_lookup.ProductID.astype(str) # Encode as strings for future lookup ease"
   ]
  },
  {
   "cell_type": "code",
   "execution_count": 20,
   "id": "cb743a26",
   "metadata": {},
   "outputs": [
    {
     "data": {
      "text/html": [
       "<div>\n",
       "<style scoped>\n",
       "    .dataframe tbody tr th:only-of-type {\n",
       "        vertical-align: middle;\n",
       "    }\n",
       "\n",
       "    .dataframe tbody tr th {\n",
       "        vertical-align: top;\n",
       "    }\n",
       "\n",
       "    .dataframe thead th {\n",
       "        text-align: right;\n",
       "    }\n",
       "</style>\n",
       "<table border=\"1\" class=\"dataframe\">\n",
       "  <thead>\n",
       "    <tr style=\"text-align: right;\">\n",
       "      <th></th>\n",
       "      <th>ProductID</th>\n",
       "      <th>ProductName</th>\n",
       "    </tr>\n",
       "  </thead>\n",
       "  <tbody>\n",
       "    <tr>\n",
       "      <th>0</th>\n",
       "      <td>310</td>\n",
       "      <td>Road-150 Red, 62</td>\n",
       "    </tr>\n",
       "    <tr>\n",
       "      <th>1</th>\n",
       "      <td>346</td>\n",
       "      <td>Mountain-100 Silver, 44</td>\n",
       "    </tr>\n",
       "    <tr>\n",
       "      <th>3</th>\n",
       "      <td>336</td>\n",
       "      <td>Road-650 Black, 62</td>\n",
       "    </tr>\n",
       "    <tr>\n",
       "      <th>5</th>\n",
       "      <td>311</td>\n",
       "      <td>Road-150 Red, 44</td>\n",
       "    </tr>\n",
       "    <tr>\n",
       "      <th>7</th>\n",
       "      <td>351</td>\n",
       "      <td>Mountain-100 Black, 48</td>\n",
       "    </tr>\n",
       "  </tbody>\n",
       "</table>\n",
       "</div>"
      ],
      "text/plain": [
       "  ProductID              ProductName\n",
       "0       310         Road-150 Red, 62\n",
       "1       346  Mountain-100 Silver, 44\n",
       "3       336       Road-650 Black, 62\n",
       "5       311         Road-150 Red, 44\n",
       "7       351   Mountain-100 Black, 48"
      ]
     },
     "execution_count": 20,
     "metadata": {},
     "output_type": "execute_result"
    }
   ],
   "source": [
    "product_lookup.head()"
   ]
  },
  {
   "cell_type": "code",
   "execution_count": 21,
   "id": "c5a5fdc3",
   "metadata": {},
   "outputs": [
    {
     "data": {
      "text/plain": [
       "ProductID      object\n",
       "ProductName    object\n",
       "dtype: object"
      ]
     },
     "execution_count": 21,
     "metadata": {},
     "output_type": "execute_result"
    }
   ],
   "source": [
    "product_lookup.dtypes "
   ]
  },
  {
   "cell_type": "code",
   "execution_count": 22,
   "id": "cd5745e1",
   "metadata": {},
   "outputs": [
    {
     "data": {
      "text/plain": [
       "(158, 2)"
      ]
     },
     "execution_count": 22,
     "metadata": {},
     "output_type": "execute_result"
    }
   ],
   "source": [
    "product_lookup.shape"
   ]
  },
  {
   "cell_type": "code",
   "execution_count": 23,
   "id": "e121fdc2",
   "metadata": {},
   "outputs": [
    {
     "data": {
      "text/html": [
       "<div>\n",
       "<style scoped>\n",
       "    .dataframe tbody tr th:only-of-type {\n",
       "        vertical-align: middle;\n",
       "    }\n",
       "\n",
       "    .dataframe tbody tr th {\n",
       "        vertical-align: top;\n",
       "    }\n",
       "\n",
       "    .dataframe thead th {\n",
       "        text-align: right;\n",
       "    }\n",
       "</style>\n",
       "<table border=\"1\" class=\"dataframe\">\n",
       "  <thead>\n",
       "    <tr style=\"text-align: right;\">\n",
       "      <th></th>\n",
       "      <th>ProductID</th>\n",
       "      <th>ProductName</th>\n",
       "    </tr>\n",
       "  </thead>\n",
       "  <tbody>\n",
       "    <tr>\n",
       "      <th>count</th>\n",
       "      <td>158</td>\n",
       "      <td>158</td>\n",
       "    </tr>\n",
       "    <tr>\n",
       "      <th>unique</th>\n",
       "      <td>158</td>\n",
       "      <td>130</td>\n",
       "    </tr>\n",
       "    <tr>\n",
       "      <th>top</th>\n",
       "      <td>310</td>\n",
       "      <td>Road-550-W Yellow, 44</td>\n",
       "    </tr>\n",
       "    <tr>\n",
       "      <th>freq</th>\n",
       "      <td>1</td>\n",
       "      <td>2</td>\n",
       "    </tr>\n",
       "  </tbody>\n",
       "</table>\n",
       "</div>"
      ],
      "text/plain": [
       "       ProductID            ProductName\n",
       "count        158                    158\n",
       "unique       158                    130\n",
       "top          310  Road-550-W Yellow, 44\n",
       "freq           1                      2"
      ]
     },
     "execution_count": 23,
     "metadata": {},
     "output_type": "execute_result"
    }
   ],
   "source": [
    "#*check* there are 130 unique products, but 158 product mappings in the dataset\n",
    "#due to variations in standard cost/list price of some products \n",
    "product_lookup.describe()"
   ]
  },
  {
   "cell_type": "code",
   "execution_count": 24,
   "id": "aab9e556",
   "metadata": {},
   "outputs": [],
   "source": [
    "#now prepare the dataframe for modelling later - we want customerID, ProductID and OrderVol only\n",
    "\n",
    "internet_sales['CustomerID'] = internet_sales.CustomerID.astype(int) # Convert to int for customer ID\n",
    "internet_sales = internet_sales[['ProductID', 'CustomerID', 'OrderVol']] # Focus only on ProductID, CustomerID and OrderVol\n",
    "grouped_cleaned = internet_sales.groupby(['CustomerID', 'ProductID']).sum().reset_index() # Group together \n",
    "#*check above should still maintain same number of rows of original dataset\n",
    "#*check also - might want to name 'grouped' only, or 'reduced' as hasn't really been 'cleaned'"
   ]
  },
  {
   "cell_type": "code",
   "execution_count": 25,
   "id": "82a4213f",
   "metadata": {},
   "outputs": [
    {
     "data": {
      "text/html": [
       "<div>\n",
       "<style scoped>\n",
       "    .dataframe tbody tr th:only-of-type {\n",
       "        vertical-align: middle;\n",
       "    }\n",
       "\n",
       "    .dataframe tbody tr th {\n",
       "        vertical-align: top;\n",
       "    }\n",
       "\n",
       "    .dataframe thead th {\n",
       "        text-align: right;\n",
       "    }\n",
       "</style>\n",
       "<table border=\"1\" class=\"dataframe\">\n",
       "  <thead>\n",
       "    <tr style=\"text-align: right;\">\n",
       "      <th></th>\n",
       "      <th>CustomerID</th>\n",
       "      <th>ProductID</th>\n",
       "      <th>OrderVol</th>\n",
       "    </tr>\n",
       "  </thead>\n",
       "  <tbody>\n",
       "    <tr>\n",
       "      <th>0</th>\n",
       "      <td>11000</td>\n",
       "      <td>214</td>\n",
       "      <td>1</td>\n",
       "    </tr>\n",
       "    <tr>\n",
       "      <th>1</th>\n",
       "      <td>11000</td>\n",
       "      <td>344</td>\n",
       "      <td>1</td>\n",
       "    </tr>\n",
       "    <tr>\n",
       "      <th>2</th>\n",
       "      <td>11000</td>\n",
       "      <td>353</td>\n",
       "      <td>1</td>\n",
       "    </tr>\n",
       "    <tr>\n",
       "      <th>3</th>\n",
       "      <td>11000</td>\n",
       "      <td>485</td>\n",
       "      <td>1</td>\n",
       "    </tr>\n",
       "    <tr>\n",
       "      <th>4</th>\n",
       "      <td>11000</td>\n",
       "      <td>488</td>\n",
       "      <td>1</td>\n",
       "    </tr>\n",
       "  </tbody>\n",
       "</table>\n",
       "</div>"
      ],
      "text/plain": [
       "   CustomerID  ProductID  OrderVol\n",
       "0       11000        214         1\n",
       "1       11000        344         1\n",
       "2       11000        353         1\n",
       "3       11000        485         1\n",
       "4       11000        488         1"
      ]
     },
     "execution_count": 25,
     "metadata": {},
     "output_type": "execute_result"
    }
   ],
   "source": [
    "grouped_cleaned.head()"
   ]
  },
  {
   "cell_type": "code",
   "execution_count": 26,
   "id": "596f42d5",
   "metadata": {},
   "outputs": [
    {
     "data": {
      "text/html": [
       "<div>\n",
       "<style scoped>\n",
       "    .dataframe tbody tr th:only-of-type {\n",
       "        vertical-align: middle;\n",
       "    }\n",
       "\n",
       "    .dataframe tbody tr th {\n",
       "        vertical-align: top;\n",
       "    }\n",
       "\n",
       "    .dataframe thead th {\n",
       "        text-align: right;\n",
       "    }\n",
       "</style>\n",
       "<table border=\"1\" class=\"dataframe\">\n",
       "  <thead>\n",
       "    <tr style=\"text-align: right;\">\n",
       "      <th></th>\n",
       "      <th>CustomerID</th>\n",
       "      <th>ProductID</th>\n",
       "      <th>OrderVol</th>\n",
       "    </tr>\n",
       "  </thead>\n",
       "  <tbody>\n",
       "  </tbody>\n",
       "</table>\n",
       "</div>"
      ],
      "text/plain": [
       "Empty DataFrame\n",
       "Columns: [CustomerID, ProductID, OrderVol]\n",
       "Index: []"
      ]
     },
     "execution_count": 26,
     "metadata": {},
     "output_type": "execute_result"
    }
   ],
   "source": [
    "#check no zero or negative purchases\n",
    "grouped_cleaned.loc[grouped_cleaned.OrderVol <= 0]"
   ]
  },
  {
   "cell_type": "code",
   "execution_count": 27,
   "id": "94e64aa1",
   "metadata": {},
   "outputs": [
    {
     "name": "stdout",
     "output_type": "stream",
     "text": [
      "<class 'pandas.core.frame.DataFrame'>\n",
      "RangeIndex: 59051 entries, 0 to 59050\n",
      "Data columns (total 3 columns):\n",
      " #   Column      Non-Null Count  Dtype\n",
      "---  ------      --------------  -----\n",
      " 0   CustomerID  59051 non-null  int64\n",
      " 1   ProductID   59051 non-null  int64\n",
      " 2   OrderVol    59051 non-null  int64\n",
      "dtypes: int64(3)\n",
      "memory usage: 1.4 MB\n"
     ]
    }
   ],
   "source": [
    "grouped_cleaned.info()\n",
    "    "
   ]
  },
  {
   "cell_type": "code",
   "execution_count": 28,
   "id": "818ec9a2",
   "metadata": {},
   "outputs": [
    {
     "name": "stdout",
     "output_type": "stream",
     "text": [
      "<class 'pandas.core.frame.DataFrame'>\n",
      "RangeIndex: 59051 entries, 0 to 59050\n",
      "Data columns (total 3 columns):\n",
      " #   Column      Non-Null Count  Dtype \n",
      "---  ------      --------------  ----- \n",
      " 0   CustomerID  59051 non-null  int64 \n",
      " 1   ProductID   59051 non-null  object\n",
      " 2   OrderVol    59051 non-null  int64 \n",
      "dtypes: int64(2), object(1)\n",
      "memory usage: 1.4+ MB\n"
     ]
    }
   ],
   "source": [
    "grouped_cleaned['ProductID'] = grouped_cleaned['ProductID'].astype(str) #convert ProductID to string\n",
    "grouped_cleaned.info()"
   ]
  },
  {
   "cell_type": "markdown",
   "id": "5a704285",
   "metadata": {},
   "source": [
    "## Sparse Confidence Matrix"
   ]
  },
  {
   "cell_type": "code",
   "execution_count": 29,
   "id": "087a9dea",
   "metadata": {},
   "outputs": [],
   "source": [
    "# We don't have explicit customer \"ratings\" (cf Netflix/Amazon movie/product ratings), but the order volume can represent a \"confidence\" in terms \n",
    "# of how strong the interaction was."
   ]
  },
  {
   "cell_type": "markdown",
   "id": "9d3ca0da",
   "metadata": {},
   "source": [
    "### Create a sparse confidence matrix of customers and products"
   ]
  },
  {
   "cell_type": "code",
   "execution_count": 30,
   "id": "0321236f",
   "metadata": {},
   "outputs": [],
   "source": [
    "\n",
    "customers = list(grouped_cleaned.CustomerID.unique()) # Get our unique customers\n",
    "products = list(grouped_cleaned.ProductID.unique()) # Get our unique products that were purchased\n",
    "quantity = list(grouped_cleaned.OrderVol) # All of our purchases\n",
    "\n"
   ]
  },
  {
   "cell_type": "code",
   "execution_count": 35,
   "id": "48cc6fd6",
   "metadata": {},
   "outputs": [],
   "source": [
    "from pandas.api.types import CategoricalDtype\n",
    "#get the associated row indices\n",
    "rows= grouped_cleaned.CustomerID.astype(CategoricalDtype(categories=customers)).cat.codes\n",
    "#get the associated column indices\n",
    "cols= grouped_cleaned.ProductID.astype(CategoricalDtype(categories=products)).cat.codes\n",
    "#compress sparse row matrix\n",
    "purchases_sparse = sparse.csr_matrix((quantity, (rows, cols)), shape=(len(customers), len(products)))"
   ]
  },
  {
   "cell_type": "code",
   "execution_count": 36,
   "id": "d18695d1",
   "metadata": {},
   "outputs": [
    {
     "name": "stdout",
     "output_type": "stream",
     "text": [
      "18484\n",
      "158\n"
     ]
    }
   ],
   "source": [
    "#more checks\n",
    "print(len(customers))\n",
    "print(len(products))"
   ]
  },
  {
   "cell_type": "code",
   "execution_count": 37,
   "id": "427a87bb",
   "metadata": {},
   "outputs": [
    {
     "data": {
      "text/plain": [
       "<18484x158 sparse matrix of type '<class 'numpy.intc'>'\n",
       "\twith 59051 stored elements in Compressed Sparse Row format>"
      ]
     },
     "execution_count": 37,
     "metadata": {},
     "output_type": "execute_result"
    }
   ],
   "source": [
    "purchases_sparse"
   ]
  },
  {
   "cell_type": "code",
   "execution_count": null,
   "id": "e8e19616",
   "metadata": {},
   "outputs": [],
   "source": [
    "#a sparse matrix is not a pandas dataframe, but sparse matrices are efficient for row slicing and fast"
   ]
  },
  {
   "cell_type": "code",
   "execution_count": 38,
   "id": "6841a3a9",
   "metadata": {},
   "outputs": [
    {
     "data": {
      "text/plain": [
       "97.97803231806365"
      ]
     },
     "execution_count": 38,
     "metadata": {},
     "output_type": "execute_result"
    }
   ],
   "source": [
    "# Based on the unfiltered data set, we have 18484 unique customers with 158 unique products.\n",
    "#For these customer/product interactions, 59051 of these products had a purchase. In terms of sparsity of the matrix, that makes:\n",
    "matrix_size = purchases_sparse.shape[0]*purchases_sparse.shape[1] # Number of possible interactions in the matrix\n",
    "num_purchases = len(purchases_sparse.nonzero()[0]) # Number of products interacted with\n",
    "sparsity = 100*(1 - (num_purchases/matrix_size))\n",
    "sparsity"
   ]
  },
  {
   "cell_type": "markdown",
   "id": "69de3659",
   "metadata": {},
   "source": [
    "-97.97% of the interaction matrix is sparse. For collaborative filtering to work, the maximum sparsity you could get away with would probably be about 99.5% or so. We are well below this, so we should be able to get decent results."
   ]
  },
  {
   "cell_type": "markdown",
   "id": "3fa18610",
   "metadata": {},
   "source": [
    "### Training/validating customer/product interactions - matrix factorisation"
   ]
  },
  {
   "cell_type": "markdown",
   "id": "ffebc67d",
   "metadata": {},
   "source": [
    "- Typically in Machine Learning applications, we need to test whether the model we just trained is any good on new data it hasn’t yet seen before from the training phase. We do this by creating a test set completely separate from the training set. Usually this is fairly simple: just take a random sample of the training example rows in our feature matrix and separate it away from the training set.\n",
    "- With collaborative filtering, that’s not going to work because you need all of the user/item interactions to find the proper matrix factorization. A better method is to hide a certain percentage of the user/item interactions from the model during the training phase chosen at random. Then, check during the test phase how many of the items that were recommended the user actually ended up purchasing in the end. Ideally, you would ultimately test your recommendations with some kind of A/B test or utilizing data from a time series where all data prior to a certain point in time is used for training while data after a certain period of time is used for testing.\n",
    "- Our test set is an exact copy of our original data. The training set, however, will mask a random percentage of user/item interactions and act as if the user never purchased the item (making it a sparse entry with a zero). We then check in the test set which items were recommended to the user that they ended up actually purchasing. If the users frequently ended up purchasing the items most recommended to them by the system, we can conclude the system seems to be working.\n",
    "- Now that we have a plan on how to separate our training and testing sets, let’s create a function that can do this for us. We will also import the random library and set a seed so that you will see the same results as I did."
   ]
  },
  {
   "cell_type": "code",
   "execution_count": 39,
   "id": "84d82899",
   "metadata": {},
   "outputs": [],
   "source": [
    "# We'll use a random function to separate our training and testing sets.\n",
    "import random"
   ]
  },
  {
   "cell_type": "code",
   "execution_count": 40,
   "id": "cf92e6fd",
   "metadata": {},
   "outputs": [],
   "source": [
    "def make_train(confidence, pct_test = 0.2):\n",
    "    '''\n",
    "    This function will take in the original customer-product matrix and \"mask\" a percentage of the original confidence where a\n",
    "    customer-product interaction has taken place for use as a test set. The test set will contain all of the original confidence, \n",
    "    while the training set replaces the specified percentage of them with a zero in the original confidence matrix. \n",
    "    \n",
    "    parameters: \n",
    "    \n",
    "    confidence - the original confidence matrix from which you want to generate a train/test set. Test is just a complete\n",
    "    copy of the original set. This is in the form of a sparse csr_matrix. \n",
    "    \n",
    "    pct_test - The percentage of customer-product interactions where an interaction took place that you want to mask in the \n",
    "    training set for later comparison to the test set, which contains all of the original confidence. \n",
    "    \n",
    "    returns:\n",
    "    \n",
    "    training_set - The altered version of the original data with a certain percentage of the customer-product pairs \n",
    "    that originally had interaction set back to zero.\n",
    "    \n",
    "    test_set - A copy of the original confidence matrix, unaltered, so it can be used to see how the rank order \n",
    "    compares with the actual interactions.\n",
    "    \n",
    "    customer_inds - From the randomly selected customer-product indices, which customer rows were altered in the training data.\n",
    "    This will be necessary later when evaluating the performance via AUC.\n",
    "    '''\n",
    "    test_set = confidence.copy() # Make a copy of the original set to be the test set. \n",
    "    test_set[test_set != 0] = 1 # Store the test set as a binary preference matrix\n",
    "    training_set = confidence.copy() # Make a copy of the original data we can alter as our training set. \n",
    "    nonzero_inds = training_set.nonzero() # Find the indices in the confidence data where an interaction exists\n",
    "    nonzero_pairs = list(zip(nonzero_inds[0], nonzero_inds[1])) # Zip these pairs together of customer,product index into list\n",
    "    random.seed(0) # Set the random seed to zero for reproducibility\n",
    "    num_samples = int(np.ceil(pct_test*len(nonzero_pairs))) # Round the number of samples needed to the nearest integer\n",
    "    samples = random.sample(nonzero_pairs, num_samples) # Sample a random number of customer-product pairs without replacement\n",
    "    customer_inds = [index[0] for index in samples] # Get the customer row indices\n",
    "    product_inds = [index[1] for index in samples] # Get the product column indices\n",
    "    training_set[customer_inds, product_inds] = 0 # Assign all of the randomly chosen customer-product pairs to zero\n",
    "    training_set.eliminate_zeros() # Get rid of zeros in sparse array storage after update to save space\n",
    "    return training_set, test_set, list(set(customer_inds)) # Output the unique list of customer rows that were altered"
   ]
  },
  {
   "cell_type": "markdown",
   "id": "d18b5cf1",
   "metadata": {},
   "source": [
    "-This will return our training set, a test set that has been binarized to 0/1 for purchased/not purchased,and a list of which users had at least one item masked. We will test the performance of the recommender system on these users only. \n",
    "-I am masking 20% of the user/item interactions for this project."
   ]
  },
  {
   "cell_type": "code",
   "execution_count": 41,
   "id": "6a437822",
   "metadata": {},
   "outputs": [],
   "source": [
    "# Now, we mask 20% of the customer/product interactions.\n",
    "product_train, product_test, product_customers_altered = make_train(purchases_sparse, pct_test = 0.2)"
   ]
  },
  {
   "cell_type": "markdown",
   "id": "de9858b1",
   "metadata": {},
   "source": [
    "### Implementing ALS for Implicit Feedback based collaborative filtering"
   ]
  },
  {
   "cell_type": "code",
   "execution_count": 42,
   "id": "b018fae1",
   "metadata": {},
   "outputs": [],
   "source": [
    "def implicit_weighted_ALS(training_set, lambda_val = 0.1, alpha = 40, iterations = 10, rank_size = 20, seed = 0):\n",
    "    '''\n",
    "    Implicit weighted ALS taken from Hu, Koren, and Volinsky 2008. Designed for alternating least squares and implicit\n",
    "    feedback based collaborative filtering. \n",
    "    \n",
    "    parameters:\n",
    "    \n",
    "    training_set - Our matrix of confidence with shape m x n, where m is the number of customers and n is the number of products.\n",
    "    Should be a sparse csr matrix to save space. \n",
    "    \n",
    "    lambda_val - Used for regularization during alternating least squares. Increasing this value may increase bias\n",
    "    but decrease variance. Default is 0.1. \n",
    "    \n",
    "    alpha - The parameter associated with the confidence matrix discussed in the paper, where Cui = 1 + alpha*Rui. \n",
    "    The paper found a default of 40 most effective. Decreasing this will decrease the variability in confidence between\n",
    "    various confidence.\n",
    "    \n",
    "    iterations - The number of times to alternate between both customer feature vector and product feature vector in\n",
    "    alternating least squares. More iterations will allow better convergence at the cost of increased computation. \n",
    "    The authors found 10 iterations was sufficient, but more may be required to converge. \n",
    "    \n",
    "    rank_size - The number of latent features in the customer/product feature vectors. The paper recommends varying this \n",
    "    between 20-200. Increasing the number of features may overfit but could reduce bias. \n",
    "    \n",
    "    seed - Set the seed for reproducible results\n",
    "    \n",
    "    returns:\n",
    "    \n",
    "    The feature vectors for customers and products. The dot product of these feature vectors should give you the expected \n",
    "    \"rating\" at each point in your original matrix. \n",
    "    '''\n",
    "    \n",
    "    # first set up our confidence matrix\n",
    "    \n",
    "    conf = (alpha*training_set) # To allow the matrix to stay sparse, I will add one later when each row is taken \n",
    "                                # and converted to dense. \n",
    "    num_customer = conf.shape[0]\n",
    "    num_product = conf.shape[1] # Get the size of our original confidence matrix, m x n\n",
    "    \n",
    "    # initialize our X/Y feature vectors randomly with a set seed\n",
    "    rstate = np.random.RandomState(seed)\n",
    "    \n",
    "    X = sparse.csr_matrix(rstate.normal(size = (num_customer, rank_size))) # Random numbers in a m x rank shape\n",
    "    Y = sparse.csr_matrix(rstate.normal(size = (num_product, rank_size))) # Normally this would be rank x n but we can \n",
    "                                                                 # transpose at the end. Makes calculation more simple.\n",
    "    X_eye = sparse.eye(num_customer)\n",
    "    Y_eye = sparse.eye(num_product)\n",
    "    lambda_eye = lambda_val * sparse.eye(rank_size) # Our regularization term lambda*I. \n",
    "    \n",
    "    # We can compute this before iteration starts. \n",
    "    \n",
    "    # Begin iterations\n",
    "   \n",
    "    for iter_step in range(iterations): # Iterate back and forth between solving X given fixed Y and vice versa\n",
    "        # Compute yTy and xTx at beginning of each iteration to save computing time\n",
    "        yTy = Y.T.dot(Y)\n",
    "        xTx = X.T.dot(X)\n",
    "        # Being iteration to solve for X based on fixed Y\n",
    "        for u in range(num_customer):\n",
    "            conf_samp = conf[u,:].toarray() # Grab customer row from confidence matrix and convert to dense\n",
    "            pref = conf_samp.copy() \n",
    "            pref[pref != 0] = 1 # Create binarized preference vector \n",
    "            CuI = sparse.diags(conf_samp, [0]) # Get Cu - I term, don't need to subtract 1 since we never added it \n",
    "            yTCuIY = Y.T.dot(CuI).dot(Y) # This is the yT(Cu-I)Y term \n",
    "            yTCupu = Y.T.dot(CuI + Y_eye).dot(pref.T) # This is the yTCuPu term, where we add the eye back in\n",
    "                                                      # Cu - I + I = Cu\n",
    "            X[u] = spsolve(yTy + yTCuIY + lambda_eye, yTCupu) \n",
    "            # Solve for Xu = ((yTy + yT(Cu-I)Y + lambda*I)^-1)yTCuPu, equation 4 from the paper  \n",
    "        # Begin iteration to solve for Y based on fixed X \n",
    "        for i in range(num_product):\n",
    "            conf_samp = conf[:,i].T.toarray() # transpose to get it in row format and convert to dense\n",
    "            pref = conf_samp.copy()\n",
    "            pref[pref != 0] = 1 # Create binarized preference vector\n",
    "            CiI = sparse.diags(conf_samp, [0]) # Get Ci - I term, don't need to subtract 1 since we never added it\n",
    "            xTCiIX = X.T.dot(CiI).dot(X) # This is the xT(Cu-I)X term\n",
    "            xTCiPi = X.T.dot(CiI + X_eye).dot(pref.T) # This is the xTCiPi term\n",
    "            Y[i] = spsolve(xTx + xTCiIX + lambda_eye, xTCiPi)\n",
    "            # Solve for Yi = ((xTx + xT(Cu-I)X) + lambda*I)^-1)xTCiPi, equation 5 from the paper\n",
    "    # End iterations\n",
    "    return X, Y.T # Transpose at the end to make up for not being transposed at the beginning. \n",
    "                         # Y needs to be rank x n. Keep these as separate matrices for scale reasons. "
   ]
  },
  {
   "cell_type": "code",
   "execution_count": 43,
   "id": "fe9c8bcc",
   "metadata": {},
   "outputs": [],
   "source": [
    "#*check* this takes a long time\n",
    "#*check still need to run with 15 iterations\n",
    "customer_vecs, product_vecs = implicit_weighted_ALS(product_train, lambda_val = 0.1, alpha = 15, iterations = 1,\n",
    "                                            rank_size = 20)"
   ]
  },
  {
   "cell_type": "markdown",
   "id": "067810a9",
   "metadata": {},
   "source": [
    "### We can investigate confidence for a particular customer by taking the dot product between the customer and product vectors.\n",
    "### Let’s look at our first customer."
   ]
  },
  {
   "cell_type": "code",
   "execution_count": 44,
   "id": "55f6d898",
   "metadata": {},
   "outputs": [
    {
     "data": {
      "text/plain": [
       "array([5.24299219e-02, 9.85570586e-05, 1.25361284e-02, 3.89815739e-02,\n",
       "       7.83943702e-03])"
      ]
     },
     "execution_count": 44,
     "metadata": {},
     "output_type": "execute_result"
    }
   ],
   "source": [
    "customer_vecs[0,:].dot(product_vecs).toarray()[0,:5]"
   ]
  },
  {
   "cell_type": "markdown",
   "id": "8491275e",
   "metadata": {},
   "source": [
    "-This is a sample of the first five items out of the 158 in our stock. The first user in our matrix has the second item with the greatest recommendation out of the first five items. However, notice we only did one iteration because our algorithm was so slow! You should iterate at least ten times according to the authors so that U and V converge.\n",
    "This is done using matrix factorization"
   ]
  },
  {
   "cell_type": "markdown",
   "id": "8207403a",
   "metadata": {},
   "source": [
    "## Making ALS faster"
   ]
  },
  {
   "cell_type": "code",
   "execution_count": 45,
   "id": "808e2ac0",
   "metadata": {},
   "outputs": [],
   "source": [
    "# As our algorithm is very parallel, we can use ALS for Python utilizing Cython and parallelizing the code among threads.\n",
    "import implicit"
   ]
  },
  {
   "cell_type": "code",
   "execution_count": 46,
   "id": "39a58c0f",
   "metadata": {},
   "outputs": [
    {
     "name": "stderr",
     "output_type": "stream",
     "text": [
      "This method is deprecated. Please use the AlternatingLeastSquares class instead\n",
      "WARNING:root:Intel MKL BLAS detected. Its highly recommend to set the environment variable 'export MKL_NUM_THREADS=1' to disable its internal multithreading\n"
     ]
    },
    {
     "data": {
      "application/vnd.jupyter.widget-view+json": {
       "model_id": "87a5bef3e78449a7a160eeee7be66cda",
       "version_major": 2,
       "version_minor": 0
      },
      "text/plain": [
       "  0%|          | 0/50 [00:00<?, ?it/s]"
      ]
     },
     "metadata": {},
     "output_type": "display_data"
    }
   ],
   "source": [
    "\n",
    "alpha = 15\n",
    "conf_data = (product_train*alpha).astype('double')\n",
    "customer_vecs, product_vecs = implicit.alternating_least_squares((product_train*alpha).astype('double'), \n",
    "                                                          factors=20, \n",
    "                                                          regularization = 0.1, \n",
    "                                                         iterations = 50)"
   ]
  },
  {
   "cell_type": "markdown",
   "id": "eb425691",
   "metadata": {},
   "source": [
    "## Evaluation of Recommendation Engine"
   ]
  },
  {
   "cell_type": "markdown",
   "id": "f976eb07",
   "metadata": {},
   "source": [
    "- Remember that our training set had 20% of the purchases masked? This will allow us to evaluate the performance of our recommender system. Essentially, we need to see if the order of recommendations given for each user matches the items they ended up purchasing. A commonly used metric for this kind of problem is the area under the Receiver Operating Characteristic (or ROC) curve. A greater area under the curve means we are recommending items that end up being purchased near the top of the list of recommended items."
   ]
  },
  {
   "cell_type": "code",
   "execution_count": 85,
   "id": "51baf6e1",
   "metadata": {},
   "outputs": [],
   "source": [
    "from sklearn import metrics\n",
    "def auc_score(predictions, test):\n",
    "    '''\n",
    "    This simple function will output the area under the curve using sklearn's metrics. \n",
    "    \n",
    "    parameters:\n",
    "    \n",
    "    - predictions: your prediction output\n",
    "    \n",
    "    - test: the actual target result you are comparing to\n",
    "    \n",
    "    returns:\n",
    "    \n",
    "    - AUC (area under the Receiver Operating Characterisic curve)\n",
    "    '''\n",
    "    fpr, tpr, thresholds = metrics.roc_curve(test, predictions)\n",
    "    return metrics.auc(fpr, tpr)   "
   ]
  },
  {
   "cell_type": "markdown",
   "id": "3d9b3a7f",
   "metadata": {},
   "source": [
    "- Now, utilize this helper function inside of a second function that will calculate the AUC for each user in our training set that had at least one item masked. It should also calculate AUC for the most popular items for our users to compare."
   ]
  },
  {
   "cell_type": "code",
   "execution_count": 48,
   "id": "c4a68ced",
   "metadata": {},
   "outputs": [],
   "source": [
    "def calc_mean_auc(training_set, altered_customers, predictions, test_set):\n",
    "    '''\n",
    "    This function will calculate the mean AUC by customer for any customer that had their customer-product matrix altered. \n",
    "    \n",
    "    parameters:\n",
    "    \n",
    "    training_set - The training set resulting from make_train, where a certain percentage of the original\n",
    "    customer/product interactions are reset to zero to hide them from the model \n",
    "    \n",
    "    predictions - The matrix of your predicted confidence for each customer/product pair as output from the implicit MF.\n",
    "    These should be stored in a list, with customer vectors as product zero and product vectors as product one. \n",
    "    \n",
    "    altered_customers - The indices of the customers where at least one customer/product pair was altered from make_train function\n",
    "    \n",
    "    test_set - The test set constucted earlier from make_train function\n",
    "    \n",
    "    \n",
    "    \n",
    "    returns:\n",
    "    \n",
    "    The mean AUC (area under the Receiver Operator Characteristic curve) of the test set only on customer-product interactions\n",
    "    there were originally zero to test ranking ability in addition to the most popular products as a benchmark.\n",
    "    '''\n",
    "    \n",
    "    \n",
    "    store_auc = [] # An empty list to store the AUC for each customer that had an product removed from the training set\n",
    "    popularity_auc = [] # To store popular AUC scores\n",
    "    pop_products = np.array(test_set.sum(axis = 0)).reshape(-1) # Get sum of product iteractions to find most popular\n",
    "    product_vecs = predictions[1]\n",
    "    for customer in altered_customers: # Iterate through each customer that had an product altered\n",
    "        training_row = training_set[customer,:].toarray().reshape(-1) # Get the training set row\n",
    "        zero_inds = np.where(training_row == 0) # Find where the interaction had not yet occurred\n",
    "        # Get the predicted values based on our customer/product vectors\n",
    "        customer_vec = predictions[0][customer,:]\n",
    "        pred = customer_vec.dot(product_vecs).toarray()[0,zero_inds].reshape(-1)\n",
    "        # Get only the products that were originally zero\n",
    "        # Select all confidence from the MF prediction for this customer that originally had no iteraction\n",
    "        actual = test_set[customer,:].toarray()[0,zero_inds].reshape(-1) \n",
    "        # Select the binarized yes/no interaction pairs from the original full data\n",
    "        # that align with the same pairs in training \n",
    "        pop = pop_products[zero_inds] # Get the product popularity for our chosen products\n",
    "        store_auc.append(auc_score(pred, actual)) # Calculate AUC for the given customer and store\n",
    "        popularity_auc.append(auc_score(pop, actual)) # Calculate AUC using most popular and score\n",
    "    # End customers iteration\n",
    "    \n",
    "    return float('%.3f'%np.mean(store_auc)), float('%.3f'%np.mean(popularity_auc))  \n",
    "   # Return the mean AUC rounded to three decimal places for both test and popularity benchmark"
   ]
  },
  {
   "cell_type": "code",
   "execution_count": 49,
   "id": "7515d585",
   "metadata": {},
   "outputs": [
    {
     "data": {
      "text/plain": [
       "(0.773, 0.836)"
      ]
     },
     "execution_count": 49,
     "metadata": {},
     "output_type": "execute_result"
    }
   ],
   "source": [
    "calc_mean_auc(product_train, product_customers_altered, \n",
    "              [sparse.csr_matrix(customer_vecs), sparse.csr_matrix(product_vecs.T)], product_test)\n",
    "# AUC for our recommender system"
   ]
  },
  {
   "cell_type": "markdown",
   "id": "be1efb90",
   "metadata": {},
   "source": [
    "- First measure is the \"collaborative filtering\" method, where recommendation are based on similar products purchased by other customers\n",
    "- Popularity measure is recommending the most popular products instead of \"similar\" products bought by other customers\n",
    "- *check* in both cases these metrics are pretty good, reading AUC as a confidence level suggests the recommendations are in general what the customer is buying most of the time, but the fact the recommending most popular products beats\n",
    "- similar product recommendations suggests collaborative filtering in this case doesnt have any business value "
   ]
  },
  {
   "cell_type": "code",
   "execution_count": 50,
   "id": "dd3437cc",
   "metadata": {},
   "outputs": [],
   "source": [
    "customers_arr = np.array(customers) # Array of customer IDs from the confidence matrix\n",
    "products_arr = np.array(products) # Array of product IDs from the confidence matrix"
   ]
  },
  {
   "cell_type": "code",
   "execution_count": 51,
   "id": "6e30a7df",
   "metadata": {},
   "outputs": [
    {
     "data": {
      "text/plain": [
       "(18484,)"
      ]
     },
     "execution_count": 51,
     "metadata": {},
     "output_type": "execute_result"
    }
   ],
   "source": [
    "#some checks as we havent looked for a while\n",
    "#some high level stats\n",
    "customers_arr.shape"
   ]
  },
  {
   "cell_type": "code",
   "execution_count": 52,
   "id": "43483194",
   "metadata": {},
   "outputs": [
    {
     "data": {
      "text/plain": [
       "(158,)"
      ]
     },
     "execution_count": 52,
     "metadata": {},
     "output_type": "execute_result"
    }
   ],
   "source": [
    "products_arr.shape"
   ]
  },
  {
   "cell_type": "code",
   "execution_count": 53,
   "id": "117c109b",
   "metadata": {},
   "outputs": [],
   "source": [
    "def get_products_purchased(customer_id, mf_train, customers_list, products_list, product_lookup):\n",
    "    '''\n",
    "    This just tells us which products have been already purchased by a specific customer in the training set. \n",
    "    \n",
    "    parameters: \n",
    "    \n",
    "    customer_id - Input the customer's id number that you want to see prior purchases of at least once\n",
    "    \n",
    "    mf_train - The initial confidence training set used (without weights applied)\n",
    "    \n",
    "    customers_list - The array of customers used in the confidence matrix\n",
    "    \n",
    "    products_list - The array of products used in the confidence matrix\n",
    "    \n",
    "    product_lookup - A simple pandas dataframe of the unique product ID/product descriptions available\n",
    "    \n",
    "    returns:\n",
    "    \n",
    "    A list of product IDs and product descriptions for a particular customer that were already purchased in the training set\n",
    "    '''\n",
    "    cust_ind = np.where(customers_list == customer_id)[0][0] # Returns the index row of our customer id\n",
    "    purchased_ind = mf_train[cust_ind,:].nonzero()[1] # Get column indices of purchased products\n",
    "    prod_codes = products_list[purchased_ind] # Get the stock codes for our purchased products\n",
    "    return product_lookup.loc[product_lookup.ProductID.isin(prod_codes)]"
   ]
  },
  {
   "cell_type": "code",
   "execution_count": 54,
   "id": "e89cc6e7",
   "metadata": {},
   "outputs": [
    {
     "data": {
      "text/plain": [
       "array([11000, 11001, 11002, 11003, 11004], dtype=int64)"
      ]
     },
     "execution_count": 54,
     "metadata": {},
     "output_type": "execute_result"
    }
   ],
   "source": [
    "customers_arr[:5]"
   ]
  },
  {
   "cell_type": "code",
   "execution_count": 55,
   "id": "67a7ae43",
   "metadata": {},
   "outputs": [
    {
     "data": {
      "text/html": [
       "<div>\n",
       "<style scoped>\n",
       "    .dataframe tbody tr th:only-of-type {\n",
       "        vertical-align: middle;\n",
       "    }\n",
       "\n",
       "    .dataframe tbody tr th {\n",
       "        vertical-align: top;\n",
       "    }\n",
       "\n",
       "    .dataframe thead th {\n",
       "        text-align: right;\n",
       "    }\n",
       "</style>\n",
       "<table border=\"1\" class=\"dataframe\">\n",
       "  <thead>\n",
       "    <tr style=\"text-align: right;\">\n",
       "      <th></th>\n",
       "      <th>ProductID</th>\n",
       "      <th>ProductName</th>\n",
       "    </tr>\n",
       "  </thead>\n",
       "  <tbody>\n",
       "    <tr>\n",
       "      <th>5432</th>\n",
       "      <td>353</td>\n",
       "      <td>Mountain-200 Silver, 38</td>\n",
       "    </tr>\n",
       "    <tr>\n",
       "      <th>5442</th>\n",
       "      <td>214</td>\n",
       "      <td>Sport-100 Helmet, Red</td>\n",
       "    </tr>\n",
       "    <tr>\n",
       "      <th>5457</th>\n",
       "      <td>541</td>\n",
       "      <td>Touring Tire</td>\n",
       "    </tr>\n",
       "    <tr>\n",
       "      <th>5458</th>\n",
       "      <td>530</td>\n",
       "      <td>Touring Tire Tube</td>\n",
       "    </tr>\n",
       "    <tr>\n",
       "      <th>5459</th>\n",
       "      <td>573</td>\n",
       "      <td>Touring-1000 Blue, 46</td>\n",
       "    </tr>\n",
       "    <tr>\n",
       "      <th>5476</th>\n",
       "      <td>485</td>\n",
       "      <td>Fender Set - Mountain</td>\n",
       "    </tr>\n",
       "  </tbody>\n",
       "</table>\n",
       "</div>"
      ],
      "text/plain": [
       "     ProductID              ProductName\n",
       "5432       353  Mountain-200 Silver, 38\n",
       "5442       214    Sport-100 Helmet, Red\n",
       "5457       541             Touring Tire\n",
       "5458       530        Touring Tire Tube\n",
       "5459       573    Touring-1000 Blue, 46\n",
       "5476       485    Fender Set - Mountain"
      ]
     },
     "execution_count": 55,
     "metadata": {},
     "output_type": "execute_result"
    }
   ],
   "source": [
    "# Our first customer in the list has an id of 11000. Let's test the function.\n",
    "get_products_purchased(11000, product_train, customers_arr, products_arr, product_lookup)"
   ]
  },
  {
   "cell_type": "markdown",
   "id": "dbfa4c27",
   "metadata": {},
   "source": [
    "- We can see that the customer purchased 6 items from the store. What items does the recommender system say this customer should purchase? We need to create another function that does this. Let’s also import the MinMaxScaler from scikit-learn to help with this."
   ]
  },
  {
   "cell_type": "code",
   "execution_count": 56,
   "id": "8ee655dd",
   "metadata": {},
   "outputs": [],
   "source": [
    "from sklearn.preprocessing import MinMaxScaler\n",
    "def rec_products(customer_id, mf_train, customer_vecs, product_vecs, customer_list, product_list, product_lookup, num_products = 10):\n",
    "    '''\n",
    "    This function will return the top recommended products to our customers \n",
    "    \n",
    "    parameters:\n",
    "    \n",
    "    customer_id - Input the customer's id number that you want to get recommendations for\n",
    "    \n",
    "    mf_train - The training matrix you used for matrix factorization fitting\n",
    "    \n",
    "    customer_vecs - the customer vectors from your fitted matrix factorization\n",
    "    \n",
    "    product_vecs - the product vectors from your fitted matrix factorization\n",
    "    \n",
    "    customer_list - an array of the customer's ID numbers that make up the rows of your confidence matrix \n",
    "                    (in order of matrix)\n",
    "    \n",
    "    product_list - an array of the products that make up the columns of your confidence matrix\n",
    "                    (in order of matrix)\n",
    "    \n",
    "    product_lookup - A simple pandas dataframe of the unique product ID/product descriptions available\n",
    "    \n",
    "    num_products - The number of products you want to recommend in order of best recommendations. Default is 10. \n",
    "    \n",
    "    returns:\n",
    "    \n",
    "    - The top n recommendations chosen based on the customer/product vectors for products never interacted with/purchased\n",
    "    '''\n",
    "    \n",
    "    cust_ind = np.where(customer_list == customer_id)[0][0] # Returns the index row of our customer id\n",
    "    pref_vec = mf_train[cust_ind,:].toarray() # Get the confidence from the training set confidence matrix\n",
    "    pref_vec = pref_vec.reshape(-1) + 1 # Add 1 to everything, so that products not purchased yet become equal to 1\n",
    "    pref_vec[pref_vec > 1] = 0 # Make everything already purchased zero\n",
    "    rec_vector = customer_vecs[cust_ind,:].dot(product_vecs.T) # Get dot product of customer vector and all product vectors\n",
    "    # Scale this recommendation vector between 0 and 1\n",
    "    min_max = MinMaxScaler()\n",
    "    rec_vector_scaled = min_max.fit_transform(rec_vector.reshape(-1,1))[:,0] \n",
    "    recommend_vector = pref_vec*rec_vector_scaled \n",
    "    # products already purchased have their recommendation multiplied by zero\n",
    "    product_idx = np.argsort(recommend_vector)[::-1][:num_products] # Sort the indices of the products into order \n",
    "    # of best recommendations\n",
    "    rec_list = [] # start empty list to store products\n",
    "    for index in product_idx:\n",
    "        code = product_list[index]\n",
    "        rec_list.append([code, product_lookup.ProductName.loc[product_lookup.ProductID == code].iloc[0]]) \n",
    "        # Append our descriptions to the list\n",
    "    codes = [product[0] for product in rec_list]\n",
    "    descriptions = [product[1] for product in rec_list]\n",
    "    final_frame = pd.DataFrame({'ProductID': codes, 'ProductName': descriptions}) # Create a dataframe \n",
    "    return final_frame[['ProductID', 'ProductName']] # Switch order of columns around\n"
   ]
  },
  {
   "cell_type": "markdown",
   "id": "da62c777",
   "metadata": {},
   "source": [
    "- Essentially, this will retrieve the N highest ranking dot products between our user and item vectors for a particular user. Items already purchased are not recommended to the user. For now, let’s use a default of 3 items and see what the recommender system decides to pick for our customer."
   ]
  },
  {
   "cell_type": "code",
   "execution_count": 58,
   "id": "7a1cb397",
   "metadata": {},
   "outputs": [
    {
     "name": "stdout",
     "output_type": "stream",
     "text": [
      "The top two recommended products are: \n",
      " Long-Sleeve Logo Jersey, S and \n",
      " Mountain-200 Black, 38\n"
     ]
    },
    {
     "data": {
      "text/html": [
       "<div>\n",
       "<style scoped>\n",
       "    .dataframe tbody tr th:only-of-type {\n",
       "        vertical-align: middle;\n",
       "    }\n",
       "\n",
       "    .dataframe tbody tr th {\n",
       "        vertical-align: top;\n",
       "    }\n",
       "\n",
       "    .dataframe thead th {\n",
       "        text-align: right;\n",
       "    }\n",
       "</style>\n",
       "<table border=\"1\" class=\"dataframe\">\n",
       "  <thead>\n",
       "    <tr style=\"text-align: right;\">\n",
       "      <th></th>\n",
       "      <th>ProductID</th>\n",
       "      <th>ProductName</th>\n",
       "      <th>EnglishProductSubcategoryName</th>\n",
       "    </tr>\n",
       "  </thead>\n",
       "  <tbody>\n",
       "    <tr>\n",
       "      <th>0</th>\n",
       "      <td>228</td>\n",
       "      <td>Long-Sleeve Logo Jersey, S</td>\n",
       "      <td>Jerseys</td>\n",
       "    </tr>\n",
       "    <tr>\n",
       "      <th>1</th>\n",
       "      <td>358</td>\n",
       "      <td>Mountain-200 Black, 38</td>\n",
       "      <td>Mountain Bikes</td>\n",
       "    </tr>\n",
       "    <tr>\n",
       "      <th>2</th>\n",
       "      <td>362</td>\n",
       "      <td>Mountain-200 Black, 46</td>\n",
       "      <td>Mountain Bikes</td>\n",
       "    </tr>\n",
       "    <tr>\n",
       "      <th>3</th>\n",
       "      <td>357</td>\n",
       "      <td>Mountain-200 Silver, 46</td>\n",
       "      <td>Mountain Bikes</td>\n",
       "    </tr>\n",
       "    <tr>\n",
       "      <th>4</th>\n",
       "      <td>361</td>\n",
       "      <td>Mountain-200 Black, 42</td>\n",
       "      <td>Mountain Bikes</td>\n",
       "    </tr>\n",
       "  </tbody>\n",
       "</table>\n",
       "</div>"
      ],
      "text/plain": [
       "   ProductID                 ProductName EnglishProductSubcategoryName\n",
       "0        228  Long-Sleeve Logo Jersey, S                       Jerseys\n",
       "1        358      Mountain-200 Black, 38                Mountain Bikes\n",
       "2        362      Mountain-200 Black, 46                Mountain Bikes\n",
       "3        357     Mountain-200 Silver, 46                Mountain Bikes\n",
       "4        361      Mountain-200 Black, 42                Mountain Bikes"
      ]
     },
     "metadata": {},
     "output_type": "display_data"
    }
   ],
   "source": [
    "# Let's test the function\n",
    "DisplayRecommendation = rec_products(11000, product_train, customer_vecs, product_vecs, customers_arr, products_arr, product_lookup,\n",
    "                       num_products = 5)\n",
    "\n",
    "print(\"The top two recommended products are: \\n\",   \n",
    "     DisplayRecommendation.iloc[0,1],\n",
    "     \"and \\n\",\n",
    "     DisplayRecommendation.iloc[1,1])\n",
    "\n",
    "DisplayRecommendation['ProductID']=DisplayRecommendation['ProductID'].astype(int) #switch ProductID to integer to join tables\n",
    "DisplayRecommendation=DisplayRecommendation.merge(allproducts[['ProductID','EnglishProductSubcategoryName']],how=\"left\",on='ProductID')\n",
    "\n",
    "display(DisplayRecommendation)\n"
   ]
  },
  {
   "cell_type": "markdown",
   "id": "2645b498",
   "metadata": {},
   "source": [
    "## Recommendation Graphic User Interface"
   ]
  },
  {
   "cell_type": "code",
   "execution_count": 61,
   "id": "afbca982",
   "metadata": {},
   "outputs": [],
   "source": [
    "from IPython.display import display_html\n",
    "def Recommendation():\n",
    "    Customer_ID=int(input(\"Customer ID:\"))\n",
    "    df1=(get_products_purchased(Customer_ID, product_train, customers_arr, products_arr, product_lookup))\n",
    "    df2=(rec_products(Customer_ID, product_train, customer_vecs, product_vecs, customers_arr, products_arr, product_lookup,\n",
    "                       num_products = 5))\n",
    "    \n",
    "    #add product subcategory to recommendation table\n",
    "    df2['ProductID']=df2['ProductID'].astype(int) #switch ProductID to integer to join tables\n",
    "    df2=df2.merge(allproducts[['ProductID','EnglishProductSubcategoryName']],how=\"left\",on='ProductID')\n",
    "\n",
    "    \n",
    "    df1_styler = df1.style.\\\n",
    "                set_table_attributes(\"style='display:inline'\").\\\n",
    "                set_caption('This customer has purchased:')\n",
    "    df2_styler = df2.style.\\\n",
    "                    set_table_attributes(\"style='display:inline'\").\\\n",
    "                    set_caption('This customer should like:')\n",
    "    display_html(df1_styler._repr_html_()+df2_styler._repr_html_(), raw=True)\n",
    "    \n",
    "    print(\"So the top two recommended products are: \\n\",   \n",
    "     df2.iloc[0,1],\n",
    "     \"and \\n\",\n",
    "     df2.iloc[1,1])"
   ]
  },
  {
   "cell_type": "code",
   "execution_count": 62,
   "id": "4b1153f5",
   "metadata": {},
   "outputs": [
    {
     "name": "stdout",
     "output_type": "stream",
     "text": [
      "Customer ID:11000\n"
     ]
    },
    {
     "data": {
      "text/html": [
       "<style type=\"text/css\">\n",
       "</style>\n",
       "<table id=\"T_e94ed_\" style='display:inline'>\n",
       "  <caption>This customer has purchased:</caption>\n",
       "  <thead>\n",
       "    <tr>\n",
       "      <th class=\"blank level0\" >&nbsp;</th>\n",
       "      <th class=\"col_heading level0 col0\" >ProductID</th>\n",
       "      <th class=\"col_heading level0 col1\" >ProductName</th>\n",
       "    </tr>\n",
       "  </thead>\n",
       "  <tbody>\n",
       "    <tr>\n",
       "      <th id=\"T_e94ed_level0_row0\" class=\"row_heading level0 row0\" >5432</th>\n",
       "      <td id=\"T_e94ed_row0_col0\" class=\"data row0 col0\" >353</td>\n",
       "      <td id=\"T_e94ed_row0_col1\" class=\"data row0 col1\" >Mountain-200 Silver, 38</td>\n",
       "    </tr>\n",
       "    <tr>\n",
       "      <th id=\"T_e94ed_level0_row1\" class=\"row_heading level0 row1\" >5442</th>\n",
       "      <td id=\"T_e94ed_row1_col0\" class=\"data row1 col0\" >214</td>\n",
       "      <td id=\"T_e94ed_row1_col1\" class=\"data row1 col1\" >Sport-100 Helmet, Red</td>\n",
       "    </tr>\n",
       "    <tr>\n",
       "      <th id=\"T_e94ed_level0_row2\" class=\"row_heading level0 row2\" >5457</th>\n",
       "      <td id=\"T_e94ed_row2_col0\" class=\"data row2 col0\" >541</td>\n",
       "      <td id=\"T_e94ed_row2_col1\" class=\"data row2 col1\" >Touring Tire</td>\n",
       "    </tr>\n",
       "    <tr>\n",
       "      <th id=\"T_e94ed_level0_row3\" class=\"row_heading level0 row3\" >5458</th>\n",
       "      <td id=\"T_e94ed_row3_col0\" class=\"data row3 col0\" >530</td>\n",
       "      <td id=\"T_e94ed_row3_col1\" class=\"data row3 col1\" >Touring Tire Tube</td>\n",
       "    </tr>\n",
       "    <tr>\n",
       "      <th id=\"T_e94ed_level0_row4\" class=\"row_heading level0 row4\" >5459</th>\n",
       "      <td id=\"T_e94ed_row4_col0\" class=\"data row4 col0\" >573</td>\n",
       "      <td id=\"T_e94ed_row4_col1\" class=\"data row4 col1\" >Touring-1000 Blue, 46</td>\n",
       "    </tr>\n",
       "    <tr>\n",
       "      <th id=\"T_e94ed_level0_row5\" class=\"row_heading level0 row5\" >5476</th>\n",
       "      <td id=\"T_e94ed_row5_col0\" class=\"data row5 col0\" >485</td>\n",
       "      <td id=\"T_e94ed_row5_col1\" class=\"data row5 col1\" >Fender Set - Mountain</td>\n",
       "    </tr>\n",
       "  </tbody>\n",
       "</table>\n",
       "<style type=\"text/css\">\n",
       "</style>\n",
       "<table id=\"T_0426d_\" style='display:inline'>\n",
       "  <caption>This customer should like:</caption>\n",
       "  <thead>\n",
       "    <tr>\n",
       "      <th class=\"blank level0\" >&nbsp;</th>\n",
       "      <th class=\"col_heading level0 col0\" >ProductID</th>\n",
       "      <th class=\"col_heading level0 col1\" >ProductName</th>\n",
       "      <th class=\"col_heading level0 col2\" >EnglishProductSubcategoryName</th>\n",
       "    </tr>\n",
       "  </thead>\n",
       "  <tbody>\n",
       "    <tr>\n",
       "      <th id=\"T_0426d_level0_row0\" class=\"row_heading level0 row0\" >0</th>\n",
       "      <td id=\"T_0426d_row0_col0\" class=\"data row0 col0\" >228</td>\n",
       "      <td id=\"T_0426d_row0_col1\" class=\"data row0 col1\" >Long-Sleeve Logo Jersey, S</td>\n",
       "      <td id=\"T_0426d_row0_col2\" class=\"data row0 col2\" >Jerseys</td>\n",
       "    </tr>\n",
       "    <tr>\n",
       "      <th id=\"T_0426d_level0_row1\" class=\"row_heading level0 row1\" >1</th>\n",
       "      <td id=\"T_0426d_row1_col0\" class=\"data row1 col0\" >358</td>\n",
       "      <td id=\"T_0426d_row1_col1\" class=\"data row1 col1\" >Mountain-200 Black, 38</td>\n",
       "      <td id=\"T_0426d_row1_col2\" class=\"data row1 col2\" >Mountain Bikes</td>\n",
       "    </tr>\n",
       "    <tr>\n",
       "      <th id=\"T_0426d_level0_row2\" class=\"row_heading level0 row2\" >2</th>\n",
       "      <td id=\"T_0426d_row2_col0\" class=\"data row2 col0\" >362</td>\n",
       "      <td id=\"T_0426d_row2_col1\" class=\"data row2 col1\" >Mountain-200 Black, 46</td>\n",
       "      <td id=\"T_0426d_row2_col2\" class=\"data row2 col2\" >Mountain Bikes</td>\n",
       "    </tr>\n",
       "    <tr>\n",
       "      <th id=\"T_0426d_level0_row3\" class=\"row_heading level0 row3\" >3</th>\n",
       "      <td id=\"T_0426d_row3_col0\" class=\"data row3 col0\" >357</td>\n",
       "      <td id=\"T_0426d_row3_col1\" class=\"data row3 col1\" >Mountain-200 Silver, 46</td>\n",
       "      <td id=\"T_0426d_row3_col2\" class=\"data row3 col2\" >Mountain Bikes</td>\n",
       "    </tr>\n",
       "    <tr>\n",
       "      <th id=\"T_0426d_level0_row4\" class=\"row_heading level0 row4\" >4</th>\n",
       "      <td id=\"T_0426d_row4_col0\" class=\"data row4 col0\" >361</td>\n",
       "      <td id=\"T_0426d_row4_col1\" class=\"data row4 col1\" >Mountain-200 Black, 42</td>\n",
       "      <td id=\"T_0426d_row4_col2\" class=\"data row4 col2\" >Mountain Bikes</td>\n",
       "    </tr>\n",
       "  </tbody>\n",
       "</table>\n"
      ]
     },
     "metadata": {},
     "output_type": "display_data"
    },
    {
     "name": "stdout",
     "output_type": "stream",
     "text": [
      "So the top two recommended products are: \n",
      " Long-Sleeve Logo Jersey, S and \n",
      " Mountain-200 Black, 38\n"
     ]
    }
   ],
   "source": [
    "Recommendation()"
   ]
  },
  {
   "cell_type": "markdown",
   "id": "23b0c9b1",
   "metadata": {},
   "source": [
    "### Commercial Value"
   ]
  },
  {
   "cell_type": "markdown",
   "id": "2daa7d18",
   "metadata": {},
   "source": [
    "- Lets assume from the top 10 recommendations presented to each customer, 1 item is bought each year and costs the average \n",
    "- price of the top 10 recommendations\n",
    "\n",
    "- We need to find the cost of the top 10 recommendations first"
   ]
  },
  {
   "cell_type": "code",
   "execution_count": 64,
   "id": "4f31b7b7",
   "metadata": {},
   "outputs": [],
   "source": [
    "CustomerRecommendation = rec_products(11000, product_train, customer_vecs, product_vecs, customers_arr, products_arr, product_lookup,\n",
    "                       num_products = 10)"
   ]
  },
  {
   "cell_type": "code",
   "execution_count": 65,
   "id": "54be3270",
   "metadata": {},
   "outputs": [
    {
     "data": {
      "text/html": [
       "<div>\n",
       "<style scoped>\n",
       "    .dataframe tbody tr th:only-of-type {\n",
       "        vertical-align: middle;\n",
       "    }\n",
       "\n",
       "    .dataframe tbody tr th {\n",
       "        vertical-align: top;\n",
       "    }\n",
       "\n",
       "    .dataframe thead th {\n",
       "        text-align: right;\n",
       "    }\n",
       "</style>\n",
       "<table border=\"1\" class=\"dataframe\">\n",
       "  <thead>\n",
       "    <tr style=\"text-align: right;\">\n",
       "      <th></th>\n",
       "      <th>ProductID</th>\n",
       "      <th>ProductName</th>\n",
       "    </tr>\n",
       "  </thead>\n",
       "  <tbody>\n",
       "    <tr>\n",
       "      <th>0</th>\n",
       "      <td>228</td>\n",
       "      <td>Long-Sleeve Logo Jersey, S</td>\n",
       "    </tr>\n",
       "    <tr>\n",
       "      <th>1</th>\n",
       "      <td>358</td>\n",
       "      <td>Mountain-200 Black, 38</td>\n",
       "    </tr>\n",
       "    <tr>\n",
       "      <th>2</th>\n",
       "      <td>362</td>\n",
       "      <td>Mountain-200 Black, 46</td>\n",
       "    </tr>\n",
       "    <tr>\n",
       "      <th>3</th>\n",
       "      <td>357</td>\n",
       "      <td>Mountain-200 Silver, 46</td>\n",
       "    </tr>\n",
       "    <tr>\n",
       "      <th>4</th>\n",
       "      <td>361</td>\n",
       "      <td>Mountain-200 Black, 42</td>\n",
       "    </tr>\n",
       "    <tr>\n",
       "      <th>5</th>\n",
       "      <td>352</td>\n",
       "      <td>Mountain-200 Silver, 38</td>\n",
       "    </tr>\n",
       "    <tr>\n",
       "      <th>6</th>\n",
       "      <td>478</td>\n",
       "      <td>Mountain Bottle Cage</td>\n",
       "    </tr>\n",
       "    <tr>\n",
       "      <th>7</th>\n",
       "      <td>487</td>\n",
       "      <td>Hydration Pack - 70 oz.</td>\n",
       "    </tr>\n",
       "    <tr>\n",
       "      <th>8</th>\n",
       "      <td>356</td>\n",
       "      <td>Mountain-200 Silver, 46</td>\n",
       "    </tr>\n",
       "    <tr>\n",
       "      <th>9</th>\n",
       "      <td>576</td>\n",
       "      <td>Touring-1000 Blue, 60</td>\n",
       "    </tr>\n",
       "  </tbody>\n",
       "</table>\n",
       "</div>"
      ],
      "text/plain": [
       "  ProductID                 ProductName\n",
       "0       228  Long-Sleeve Logo Jersey, S\n",
       "1       358      Mountain-200 Black, 38\n",
       "2       362      Mountain-200 Black, 46\n",
       "3       357     Mountain-200 Silver, 46\n",
       "4       361      Mountain-200 Black, 42\n",
       "5       352     Mountain-200 Silver, 38\n",
       "6       478        Mountain Bottle Cage\n",
       "7       487     Hydration Pack - 70 oz.\n",
       "8       356     Mountain-200 Silver, 46\n",
       "9       576       Touring-1000 Blue, 60"
      ]
     },
     "execution_count": 65,
     "metadata": {},
     "output_type": "execute_result"
    }
   ],
   "source": [
    "CustomerRecommendation"
   ]
  },
  {
   "cell_type": "code",
   "execution_count": 66,
   "id": "f4a36172",
   "metadata": {},
   "outputs": [
    {
     "data": {
      "text/html": [
       "<div>\n",
       "<style scoped>\n",
       "    .dataframe tbody tr th:only-of-type {\n",
       "        vertical-align: middle;\n",
       "    }\n",
       "\n",
       "    .dataframe tbody tr th {\n",
       "        vertical-align: top;\n",
       "    }\n",
       "\n",
       "    .dataframe thead th {\n",
       "        text-align: right;\n",
       "    }\n",
       "</style>\n",
       "<table border=\"1\" class=\"dataframe\">\n",
       "  <thead>\n",
       "    <tr style=\"text-align: right;\">\n",
       "      <th></th>\n",
       "      <th>ProductID</th>\n",
       "      <th>ProductAlternateKey</th>\n",
       "      <th>ProductSubcategoryKey</th>\n",
       "      <th>WeightUnitMeasureCode</th>\n",
       "      <th>SizeUnitMeasureCode</th>\n",
       "      <th>EnglishProductName</th>\n",
       "      <th>SpanishProductName</th>\n",
       "      <th>FrenchProductName</th>\n",
       "      <th>StandardCost</th>\n",
       "      <th>FinishedGoodsFlag</th>\n",
       "      <th>...</th>\n",
       "      <th>JapaneseDescription</th>\n",
       "      <th>TurkishDescription</th>\n",
       "      <th>StartDate</th>\n",
       "      <th>EndDate</th>\n",
       "      <th>Status</th>\n",
       "      <th>ProductSubcategoryAlternateKey</th>\n",
       "      <th>EnglishProductSubcategoryName</th>\n",
       "      <th>SpanishProductSubcategoryName</th>\n",
       "      <th>FrenchProductSubcategoryName</th>\n",
       "      <th>ProductCategoryKey</th>\n",
       "    </tr>\n",
       "  </thead>\n",
       "  <tbody>\n",
       "    <tr>\n",
       "      <th>0</th>\n",
       "      <td>1</td>\n",
       "      <td>AR-5381</td>\n",
       "      <td>NaN</td>\n",
       "      <td>None</td>\n",
       "      <td>None</td>\n",
       "      <td>Adjustable Race</td>\n",
       "      <td></td>\n",
       "      <td></td>\n",
       "      <td>NaN</td>\n",
       "      <td>False</td>\n",
       "      <td>...</td>\n",
       "      <td>None</td>\n",
       "      <td>None</td>\n",
       "      <td>2003-07-01</td>\n",
       "      <td>NaT</td>\n",
       "      <td>Current</td>\n",
       "      <td>NaN</td>\n",
       "      <td>NaN</td>\n",
       "      <td>NaN</td>\n",
       "      <td>NaN</td>\n",
       "      <td>NaN</td>\n",
       "    </tr>\n",
       "    <tr>\n",
       "      <th>1</th>\n",
       "      <td>2</td>\n",
       "      <td>BA-8327</td>\n",
       "      <td>NaN</td>\n",
       "      <td>None</td>\n",
       "      <td>None</td>\n",
       "      <td>Bearing Ball</td>\n",
       "      <td></td>\n",
       "      <td></td>\n",
       "      <td>NaN</td>\n",
       "      <td>False</td>\n",
       "      <td>...</td>\n",
       "      <td>None</td>\n",
       "      <td>None</td>\n",
       "      <td>2003-07-01</td>\n",
       "      <td>NaT</td>\n",
       "      <td>Current</td>\n",
       "      <td>NaN</td>\n",
       "      <td>NaN</td>\n",
       "      <td>NaN</td>\n",
       "      <td>NaN</td>\n",
       "      <td>NaN</td>\n",
       "    </tr>\n",
       "    <tr>\n",
       "      <th>2</th>\n",
       "      <td>3</td>\n",
       "      <td>BE-2349</td>\n",
       "      <td>NaN</td>\n",
       "      <td>None</td>\n",
       "      <td>None</td>\n",
       "      <td>BB Ball Bearing</td>\n",
       "      <td></td>\n",
       "      <td></td>\n",
       "      <td>NaN</td>\n",
       "      <td>False</td>\n",
       "      <td>...</td>\n",
       "      <td>None</td>\n",
       "      <td>None</td>\n",
       "      <td>2003-07-01</td>\n",
       "      <td>NaT</td>\n",
       "      <td>Current</td>\n",
       "      <td>NaN</td>\n",
       "      <td>NaN</td>\n",
       "      <td>NaN</td>\n",
       "      <td>NaN</td>\n",
       "      <td>NaN</td>\n",
       "    </tr>\n",
       "    <tr>\n",
       "      <th>3</th>\n",
       "      <td>4</td>\n",
       "      <td>BE-2908</td>\n",
       "      <td>NaN</td>\n",
       "      <td>None</td>\n",
       "      <td>None</td>\n",
       "      <td>Headset Ball Bearings</td>\n",
       "      <td></td>\n",
       "      <td></td>\n",
       "      <td>NaN</td>\n",
       "      <td>False</td>\n",
       "      <td>...</td>\n",
       "      <td>None</td>\n",
       "      <td>None</td>\n",
       "      <td>2003-07-01</td>\n",
       "      <td>NaT</td>\n",
       "      <td>Current</td>\n",
       "      <td>NaN</td>\n",
       "      <td>NaN</td>\n",
       "      <td>NaN</td>\n",
       "      <td>NaN</td>\n",
       "      <td>NaN</td>\n",
       "    </tr>\n",
       "    <tr>\n",
       "      <th>4</th>\n",
       "      <td>5</td>\n",
       "      <td>BL-2036</td>\n",
       "      <td>NaN</td>\n",
       "      <td>None</td>\n",
       "      <td>None</td>\n",
       "      <td>Blade</td>\n",
       "      <td></td>\n",
       "      <td></td>\n",
       "      <td>NaN</td>\n",
       "      <td>False</td>\n",
       "      <td>...</td>\n",
       "      <td>None</td>\n",
       "      <td>None</td>\n",
       "      <td>2003-07-01</td>\n",
       "      <td>NaT</td>\n",
       "      <td>Current</td>\n",
       "      <td>NaN</td>\n",
       "      <td>NaN</td>\n",
       "      <td>NaN</td>\n",
       "      <td>NaN</td>\n",
       "      <td>NaN</td>\n",
       "    </tr>\n",
       "  </tbody>\n",
       "</table>\n",
       "<p>5 rows × 41 columns</p>\n",
       "</div>"
      ],
      "text/plain": [
       "   ProductID ProductAlternateKey  ProductSubcategoryKey WeightUnitMeasureCode  \\\n",
       "0          1             AR-5381                    NaN                  None   \n",
       "1          2             BA-8327                    NaN                  None   \n",
       "2          3             BE-2349                    NaN                  None   \n",
       "3          4             BE-2908                    NaN                  None   \n",
       "4          5             BL-2036                    NaN                  None   \n",
       "\n",
       "  SizeUnitMeasureCode     EnglishProductName SpanishProductName  \\\n",
       "0                None        Adjustable Race                      \n",
       "1                None           Bearing Ball                      \n",
       "2                None        BB Ball Bearing                      \n",
       "3                None  Headset Ball Bearings                      \n",
       "4                None                  Blade                      \n",
       "\n",
       "  FrenchProductName  StandardCost  FinishedGoodsFlag  ... JapaneseDescription  \\\n",
       "0                             NaN              False  ...                None   \n",
       "1                             NaN              False  ...                None   \n",
       "2                             NaN              False  ...                None   \n",
       "3                             NaN              False  ...                None   \n",
       "4                             NaN              False  ...                None   \n",
       "\n",
       "   TurkishDescription  StartDate  EndDate   Status  \\\n",
       "0                None 2003-07-01      NaT  Current   \n",
       "1                None 2003-07-01      NaT  Current   \n",
       "2                None 2003-07-01      NaT  Current   \n",
       "3                None 2003-07-01      NaT  Current   \n",
       "4                None 2003-07-01      NaT  Current   \n",
       "\n",
       "  ProductSubcategoryAlternateKey  EnglishProductSubcategoryName  \\\n",
       "0                            NaN                            NaN   \n",
       "1                            NaN                            NaN   \n",
       "2                            NaN                            NaN   \n",
       "3                            NaN                            NaN   \n",
       "4                            NaN                            NaN   \n",
       "\n",
       "   SpanishProductSubcategoryName FrenchProductSubcategoryName  \\\n",
       "0                            NaN                          NaN   \n",
       "1                            NaN                          NaN   \n",
       "2                            NaN                          NaN   \n",
       "3                            NaN                          NaN   \n",
       "4                            NaN                          NaN   \n",
       "\n",
       "   ProductCategoryKey  \n",
       "0                 NaN  \n",
       "1                 NaN  \n",
       "2                 NaN  \n",
       "3                 NaN  \n",
       "4                 NaN  \n",
       "\n",
       "[5 rows x 41 columns]"
      ]
     },
     "execution_count": 66,
     "metadata": {},
     "output_type": "execute_result"
    }
   ],
   "source": [
    "allproducts.head()"
   ]
  },
  {
   "cell_type": "code",
   "execution_count": 67,
   "id": "23c69b68",
   "metadata": {},
   "outputs": [],
   "source": [
    "#Import Factinternetsales\n",
    "import pandas as pd\n",
    "fctintsales = pd.read_sql_query(\"\"\"\n",
    "SELECT\n",
    "[ProductKey]\n",
    ",avg([SalesAmount]) AS Avg_Sales\n",
    ",max([SalesAmount]) AS Max_Sales\n",
    "FROM [dbo].[FactInternetSales] group by [ProductKey] \"\"\", conn)"
   ]
  },
  {
   "cell_type": "code",
   "execution_count": 68,
   "id": "4e3ddbf2",
   "metadata": {},
   "outputs": [],
   "source": [
    "#just get back product cost and list price\n",
    "products_short=fctintsales"
   ]
  },
  {
   "cell_type": "code",
   "execution_count": 69,
   "id": "55860eca",
   "metadata": {},
   "outputs": [],
   "source": [
    "#rename ProductKey as ProductID as need to join tables\n",
    "products_short=products_short.rename(columns={\"ProductKey\": \"ProductID\"})"
   ]
  },
  {
   "cell_type": "code",
   "execution_count": 70,
   "id": "359dc8f5",
   "metadata": {},
   "outputs": [
    {
     "data": {
      "text/html": [
       "<div>\n",
       "<style scoped>\n",
       "    .dataframe tbody tr th:only-of-type {\n",
       "        vertical-align: middle;\n",
       "    }\n",
       "\n",
       "    .dataframe tbody tr th {\n",
       "        vertical-align: top;\n",
       "    }\n",
       "\n",
       "    .dataframe thead th {\n",
       "        text-align: right;\n",
       "    }\n",
       "</style>\n",
       "<table border=\"1\" class=\"dataframe\">\n",
       "  <thead>\n",
       "    <tr style=\"text-align: right;\">\n",
       "      <th></th>\n",
       "      <th>ProductID</th>\n",
       "      <th>Avg_Sales</th>\n",
       "      <th>Max_Sales</th>\n",
       "    </tr>\n",
       "  </thead>\n",
       "  <tbody>\n",
       "    <tr>\n",
       "      <th>0</th>\n",
       "      <td>593</td>\n",
       "      <td>564.99</td>\n",
       "      <td>564.99</td>\n",
       "    </tr>\n",
       "    <tr>\n",
       "      <th>1</th>\n",
       "      <td>355</td>\n",
       "      <td>2319.99</td>\n",
       "      <td>2319.99</td>\n",
       "    </tr>\n",
       "    <tr>\n",
       "      <th>2</th>\n",
       "      <td>570</td>\n",
       "      <td>742.35</td>\n",
       "      <td>742.35</td>\n",
       "    </tr>\n",
       "    <tr>\n",
       "      <th>3</th>\n",
       "      <td>378</td>\n",
       "      <td>2443.35</td>\n",
       "      <td>2443.35</td>\n",
       "    </tr>\n",
       "    <tr>\n",
       "      <th>4</th>\n",
       "      <td>384</td>\n",
       "      <td>1120.49</td>\n",
       "      <td>1120.49</td>\n",
       "    </tr>\n",
       "  </tbody>\n",
       "</table>\n",
       "</div>"
      ],
      "text/plain": [
       "   ProductID  Avg_Sales  Max_Sales\n",
       "0        593     564.99     564.99\n",
       "1        355    2319.99    2319.99\n",
       "2        570     742.35     742.35\n",
       "3        378    2443.35    2443.35\n",
       "4        384    1120.49    1120.49"
      ]
     },
     "execution_count": 70,
     "metadata": {},
     "output_type": "execute_result"
    }
   ],
   "source": [
    "#take a look\n",
    "products_short.head()"
   ]
  },
  {
   "cell_type": "code",
   "execution_count": 71,
   "id": "3f03b30a",
   "metadata": {},
   "outputs": [
    {
     "data": {
      "text/plain": [
       "ProductID      int64\n",
       "Avg_Sales    float64\n",
       "Max_Sales    float64\n",
       "dtype: object"
      ]
     },
     "execution_count": 71,
     "metadata": {},
     "output_type": "execute_result"
    }
   ],
   "source": [
    "products_short.dtypes"
   ]
  },
  {
   "cell_type": "code",
   "execution_count": 72,
   "id": "314936ae",
   "metadata": {},
   "outputs": [
    {
     "data": {
      "text/plain": [
       "ProductID      object\n",
       "ProductName    object\n",
       "dtype: object"
      ]
     },
     "execution_count": 72,
     "metadata": {},
     "output_type": "execute_result"
    }
   ],
   "source": [
    "CustomerRecommendation.dtypes"
   ]
  },
  {
   "cell_type": "code",
   "execution_count": 73,
   "id": "dab06a97",
   "metadata": {},
   "outputs": [],
   "source": [
    "#need to make productID same type in both tables\n",
    "CustomerRecommendation['ProductID'] = CustomerRecommendation.ProductID.astype(int)"
   ]
  },
  {
   "cell_type": "code",
   "execution_count": 74,
   "id": "90aa59a4",
   "metadata": {},
   "outputs": [],
   "source": [
    "CustomerRecommendation=CustomerRecommendation.merge(products_short,how=\"left\",on='ProductID')"
   ]
  },
  {
   "cell_type": "code",
   "execution_count": 75,
   "id": "6e093132",
   "metadata": {},
   "outputs": [
    {
     "data": {
      "text/html": [
       "<div>\n",
       "<style scoped>\n",
       "    .dataframe tbody tr th:only-of-type {\n",
       "        vertical-align: middle;\n",
       "    }\n",
       "\n",
       "    .dataframe tbody tr th {\n",
       "        vertical-align: top;\n",
       "    }\n",
       "\n",
       "    .dataframe thead th {\n",
       "        text-align: right;\n",
       "    }\n",
       "</style>\n",
       "<table border=\"1\" class=\"dataframe\">\n",
       "  <thead>\n",
       "    <tr style=\"text-align: right;\">\n",
       "      <th></th>\n",
       "      <th>ProductID</th>\n",
       "      <th>ProductName</th>\n",
       "      <th>Avg_Sales</th>\n",
       "      <th>Max_Sales</th>\n",
       "    </tr>\n",
       "  </thead>\n",
       "  <tbody>\n",
       "    <tr>\n",
       "      <th>0</th>\n",
       "      <td>228</td>\n",
       "      <td>Long-Sleeve Logo Jersey, S</td>\n",
       "      <td>49.9900</td>\n",
       "      <td>49.9900</td>\n",
       "    </tr>\n",
       "    <tr>\n",
       "      <th>1</th>\n",
       "      <td>358</td>\n",
       "      <td>Mountain-200 Black, 38</td>\n",
       "      <td>2049.0982</td>\n",
       "      <td>2049.0982</td>\n",
       "    </tr>\n",
       "    <tr>\n",
       "      <th>2</th>\n",
       "      <td>362</td>\n",
       "      <td>Mountain-200 Black, 46</td>\n",
       "      <td>2049.0982</td>\n",
       "      <td>2049.0982</td>\n",
       "    </tr>\n",
       "    <tr>\n",
       "      <th>3</th>\n",
       "      <td>357</td>\n",
       "      <td>Mountain-200 Silver, 46</td>\n",
       "      <td>2319.9900</td>\n",
       "      <td>2319.9900</td>\n",
       "    </tr>\n",
       "    <tr>\n",
       "      <th>4</th>\n",
       "      <td>361</td>\n",
       "      <td>Mountain-200 Black, 42</td>\n",
       "      <td>2294.9900</td>\n",
       "      <td>2294.9900</td>\n",
       "    </tr>\n",
       "    <tr>\n",
       "      <th>5</th>\n",
       "      <td>352</td>\n",
       "      <td>Mountain-200 Silver, 38</td>\n",
       "      <td>2071.4196</td>\n",
       "      <td>2071.4196</td>\n",
       "    </tr>\n",
       "    <tr>\n",
       "      <th>6</th>\n",
       "      <td>478</td>\n",
       "      <td>Mountain Bottle Cage</td>\n",
       "      <td>9.9900</td>\n",
       "      <td>9.9900</td>\n",
       "    </tr>\n",
       "    <tr>\n",
       "      <th>7</th>\n",
       "      <td>487</td>\n",
       "      <td>Hydration Pack - 70 oz.</td>\n",
       "      <td>54.9900</td>\n",
       "      <td>54.9900</td>\n",
       "    </tr>\n",
       "    <tr>\n",
       "      <th>8</th>\n",
       "      <td>356</td>\n",
       "      <td>Mountain-200 Silver, 46</td>\n",
       "      <td>2071.4196</td>\n",
       "      <td>2071.4196</td>\n",
       "    </tr>\n",
       "    <tr>\n",
       "      <th>9</th>\n",
       "      <td>576</td>\n",
       "      <td>Touring-1000 Blue, 60</td>\n",
       "      <td>2384.0700</td>\n",
       "      <td>2384.0700</td>\n",
       "    </tr>\n",
       "  </tbody>\n",
       "</table>\n",
       "</div>"
      ],
      "text/plain": [
       "   ProductID                 ProductName  Avg_Sales  Max_Sales\n",
       "0        228  Long-Sleeve Logo Jersey, S    49.9900    49.9900\n",
       "1        358      Mountain-200 Black, 38  2049.0982  2049.0982\n",
       "2        362      Mountain-200 Black, 46  2049.0982  2049.0982\n",
       "3        357     Mountain-200 Silver, 46  2319.9900  2319.9900\n",
       "4        361      Mountain-200 Black, 42  2294.9900  2294.9900\n",
       "5        352     Mountain-200 Silver, 38  2071.4196  2071.4196\n",
       "6        478        Mountain Bottle Cage     9.9900     9.9900\n",
       "7        487     Hydration Pack - 70 oz.    54.9900    54.9900\n",
       "8        356     Mountain-200 Silver, 46  2071.4196  2071.4196\n",
       "9        576       Touring-1000 Blue, 60  2384.0700  2384.0700"
      ]
     },
     "execution_count": 75,
     "metadata": {},
     "output_type": "execute_result"
    }
   ],
   "source": [
    "CustomerRecommendation"
   ]
  },
  {
   "cell_type": "code",
   "execution_count": 76,
   "id": "b276201b",
   "metadata": {},
   "outputs": [
    {
     "name": "stdout",
     "output_type": "stream",
     "text": [
      "based on product Standard cost  1535.50556\n",
      "based on product List price 1535.50556\n"
     ]
    }
   ],
   "source": [
    "#assumed additional income from customer as result of recommendation \n",
    "#= average cost and list price for the customer's top 10 recommendations\n",
    "#CustomerRecommendation.StandardCost.mean()\n",
    "print(\"based on product Standard cost \", CustomerRecommendation.Avg_Sales.mean())\n",
    "print(\"based on product List price\", CustomerRecommendation.Max_Sales.mean())"
   ]
  },
  {
   "cell_type": "code",
   "execution_count": 77,
   "id": "a4d88393",
   "metadata": {},
   "outputs": [
    {
     "data": {
      "text/plain": [
       "18484"
      ]
     },
     "execution_count": 77,
     "metadata": {},
     "output_type": "execute_result"
    }
   ],
   "source": [
    "internet_sales.CustomerID.nunique()"
   ]
  },
  {
   "cell_type": "code",
   "execution_count": 78,
   "id": "f12c498e",
   "metadata": {},
   "outputs": [],
   "source": [
    "#too many customers to loop thru, so lets look at top 500 customers by order volume only\n",
    "\n",
    "#first group and sort the customers\n",
    "rankedcust=internet_sales.groupby('CustomerID').agg({'OrderVol':'sum'}).sort_values(by='OrderVol', ascending=False).reset_index()"
   ]
  },
  {
   "cell_type": "code",
   "execution_count": 79,
   "id": "64e87370",
   "metadata": {},
   "outputs": [
    {
     "data": {
      "text/html": [
       "<div>\n",
       "<style scoped>\n",
       "    .dataframe tbody tr th:only-of-type {\n",
       "        vertical-align: middle;\n",
       "    }\n",
       "\n",
       "    .dataframe tbody tr th {\n",
       "        vertical-align: top;\n",
       "    }\n",
       "\n",
       "    .dataframe thead th {\n",
       "        text-align: right;\n",
       "    }\n",
       "</style>\n",
       "<table border=\"1\" class=\"dataframe\">\n",
       "  <thead>\n",
       "    <tr style=\"text-align: right;\">\n",
       "      <th></th>\n",
       "      <th>CustomerID</th>\n",
       "      <th>OrderVol</th>\n",
       "    </tr>\n",
       "  </thead>\n",
       "  <tbody>\n",
       "    <tr>\n",
       "      <th>0</th>\n",
       "      <td>11185</td>\n",
       "      <td>68</td>\n",
       "    </tr>\n",
       "    <tr>\n",
       "      <th>1</th>\n",
       "      <td>11300</td>\n",
       "      <td>67</td>\n",
       "    </tr>\n",
       "    <tr>\n",
       "      <th>2</th>\n",
       "      <td>11277</td>\n",
       "      <td>65</td>\n",
       "    </tr>\n",
       "    <tr>\n",
       "      <th>3</th>\n",
       "      <td>11262</td>\n",
       "      <td>63</td>\n",
       "    </tr>\n",
       "    <tr>\n",
       "      <th>4</th>\n",
       "      <td>11287</td>\n",
       "      <td>62</td>\n",
       "    </tr>\n",
       "  </tbody>\n",
       "</table>\n",
       "</div>"
      ],
      "text/plain": [
       "   CustomerID  OrderVol\n",
       "0       11185        68\n",
       "1       11300        67\n",
       "2       11277        65\n",
       "3       11262        63\n",
       "4       11287        62"
      ]
     },
     "execution_count": 79,
     "metadata": {},
     "output_type": "execute_result"
    }
   ],
   "source": [
    "rankedcust.head()"
   ]
  },
  {
   "cell_type": "code",
   "execution_count": 80,
   "id": "afa1f64f",
   "metadata": {},
   "outputs": [
    {
     "data": {
      "text/plain": [
       "(18484, 2)"
      ]
     },
     "execution_count": 80,
     "metadata": {},
     "output_type": "execute_result"
    }
   ],
   "source": [
    "#check\n",
    "rankedcust.shape"
   ]
  },
  {
   "cell_type": "code",
   "execution_count": 81,
   "id": "7392e8e6",
   "metadata": {},
   "outputs": [
    {
     "name": "stdout",
     "output_type": "stream",
     "text": [
      "Commercial Benefit (based on Standard Cost) if all customers buy one of their top 10 recommended purchases 388050.4043499999\n",
      "Commercial Benefit (based on List Price) if all customers buy one of their top 10 recommended purchases 388050.4043499999\n"
     ]
    }
   ],
   "source": [
    "Benefit_SC=0\n",
    "Benefit_LP=0\n",
    "\n",
    "for i in range (1,500):\n",
    "    #top 10 recommendations for customer\n",
    "    CustomerRecommendation = rec_products(rankedcust.CustomerID[i-1], product_train, customer_vecs, product_vecs, customers_arr, products_arr, product_lookup,\n",
    "                           num_products = 10)\n",
    "\n",
    "    #need to make productID same type in both tables\n",
    "    CustomerRecommendation['ProductID'] = CustomerRecommendation.ProductID.astype(int)\n",
    "    CustomerRecommendation=CustomerRecommendation.merge(products_short,how=\"left\",on='ProductID')\n",
    "\n",
    "    Benefit_SC=Benefit_SC+CustomerRecommendation.Avg_Sales.mean()\n",
    "    Benefit_LP=Benefit_LP+CustomerRecommendation.Max_Sales.mean()\n",
    "\n",
    "print(\"Commercial Benefit (based on Standard Cost) if all customers buy one of their top 10 recommended purchases\", Benefit_SC)\n",
    "print(\"Commercial Benefit (based on List Price) if all customers buy one of their top 10 recommended purchases\", Benefit_LP)  "
   ]
  },
  {
   "cell_type": "code",
   "execution_count": null,
   "id": "207ce92c",
   "metadata": {},
   "outputs": [],
   "source": []
  }
 ],
 "metadata": {
  "kernelspec": {
   "display_name": "Python 3 (ipykernel)",
   "language": "python",
   "name": "python3"
  },
  "language_info": {
   "codemirror_mode": {
    "name": "ipython",
    "version": 3
   },
   "file_extension": ".py",
   "mimetype": "text/x-python",
   "name": "python",
   "nbconvert_exporter": "python",
   "pygments_lexer": "ipython3",
   "version": "3.9.7"
  }
 },
 "nbformat": 4,
 "nbformat_minor": 5
}
